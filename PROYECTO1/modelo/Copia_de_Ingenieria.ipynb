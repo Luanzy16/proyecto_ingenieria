{
  "cells": [
    {
      "cell_type": "code",
      "execution_count": 1,
      "metadata": {
        "id": "0TRr-VlVxtFw"
      },
      "outputs": [],
      "source": [
        "import numpy as np\n",
        "import pandas as pd\n",
        "import matplotlib.pyplot as plt\n",
        "import seaborn as sns\n",
        "import plotly.express as px\n",
        "from sklearn.model_selection import train_test_split\n",
        "from sklearn.impute import SimpleImputer\n",
        "from sklearn.tree import DecisionTreeClassifier\n",
        "from sklearn.metrics import accuracy_score\n",
        "from sklearn.pipeline import Pipeline\n",
        "from sklearn.preprocessing import OneHotEncoder, OrdinalEncoder,MinMaxScaler\n",
        "from sklearn.compose import ColumnTransformer\n",
        "from sklearn.model_selection import cross_val_score\n",
        "from sklearn.metrics import mean_squared_error\n",
        "from sklearn.model_selection import cross_validate"
      ]
    },
    {
      "cell_type": "markdown",
      "metadata": {
        "id": "cCDeCjRLQD6f"
      },
      "source": [
        "# DataFrame utilizado: German_Credit"
      ]
    },
    {
      "cell_type": "code",
      "execution_count": 2,
      "metadata": {
        "colab": {
          "base_uri": "https://localhost:8080/",
          "height": 424
        },
        "id": "UB1D_OFmydzv",
        "outputId": "00502711-13e7-46f1-9846-e572fdeaddf8"
      },
      "outputs": [
        {
          "data": {
            "text/html": [
              "<div>\n",
              "<style scoped>\n",
              "    .dataframe tbody tr th:only-of-type {\n",
              "        vertical-align: middle;\n",
              "    }\n",
              "\n",
              "    .dataframe tbody tr th {\n",
              "        vertical-align: top;\n",
              "    }\n",
              "\n",
              "    .dataframe thead th {\n",
              "        text-align: right;\n",
              "    }\n",
              "</style>\n",
              "<table border=\"1\" class=\"dataframe\">\n",
              "  <thead>\n",
              "    <tr style=\"text-align: right;\">\n",
              "      <th></th>\n",
              "      <th>Unnamed: 0</th>\n",
              "      <th>Age</th>\n",
              "      <th>Sex</th>\n",
              "      <th>Job</th>\n",
              "      <th>Housing</th>\n",
              "      <th>Saving accounts</th>\n",
              "      <th>Checking account</th>\n",
              "      <th>Credit amount</th>\n",
              "      <th>Duration</th>\n",
              "      <th>Purpose</th>\n",
              "      <th>Risk</th>\n",
              "    </tr>\n",
              "  </thead>\n",
              "  <tbody>\n",
              "    <tr>\n",
              "      <th>0</th>\n",
              "      <td>0</td>\n",
              "      <td>67</td>\n",
              "      <td>male</td>\n",
              "      <td>2</td>\n",
              "      <td>own</td>\n",
              "      <td>NaN</td>\n",
              "      <td>little</td>\n",
              "      <td>1169</td>\n",
              "      <td>6</td>\n",
              "      <td>radio/TV</td>\n",
              "      <td>good</td>\n",
              "    </tr>\n",
              "    <tr>\n",
              "      <th>1</th>\n",
              "      <td>1</td>\n",
              "      <td>22</td>\n",
              "      <td>female</td>\n",
              "      <td>2</td>\n",
              "      <td>own</td>\n",
              "      <td>little</td>\n",
              "      <td>moderate</td>\n",
              "      <td>5951</td>\n",
              "      <td>48</td>\n",
              "      <td>radio/TV</td>\n",
              "      <td>bad</td>\n",
              "    </tr>\n",
              "    <tr>\n",
              "      <th>2</th>\n",
              "      <td>2</td>\n",
              "      <td>49</td>\n",
              "      <td>male</td>\n",
              "      <td>1</td>\n",
              "      <td>own</td>\n",
              "      <td>little</td>\n",
              "      <td>NaN</td>\n",
              "      <td>2096</td>\n",
              "      <td>12</td>\n",
              "      <td>education</td>\n",
              "      <td>good</td>\n",
              "    </tr>\n",
              "    <tr>\n",
              "      <th>3</th>\n",
              "      <td>3</td>\n",
              "      <td>45</td>\n",
              "      <td>male</td>\n",
              "      <td>2</td>\n",
              "      <td>free</td>\n",
              "      <td>little</td>\n",
              "      <td>little</td>\n",
              "      <td>7882</td>\n",
              "      <td>42</td>\n",
              "      <td>furniture/equipment</td>\n",
              "      <td>good</td>\n",
              "    </tr>\n",
              "    <tr>\n",
              "      <th>4</th>\n",
              "      <td>4</td>\n",
              "      <td>53</td>\n",
              "      <td>male</td>\n",
              "      <td>2</td>\n",
              "      <td>free</td>\n",
              "      <td>little</td>\n",
              "      <td>little</td>\n",
              "      <td>4870</td>\n",
              "      <td>24</td>\n",
              "      <td>car</td>\n",
              "      <td>bad</td>\n",
              "    </tr>\n",
              "    <tr>\n",
              "      <th>...</th>\n",
              "      <td>...</td>\n",
              "      <td>...</td>\n",
              "      <td>...</td>\n",
              "      <td>...</td>\n",
              "      <td>...</td>\n",
              "      <td>...</td>\n",
              "      <td>...</td>\n",
              "      <td>...</td>\n",
              "      <td>...</td>\n",
              "      <td>...</td>\n",
              "      <td>...</td>\n",
              "    </tr>\n",
              "    <tr>\n",
              "      <th>995</th>\n",
              "      <td>995</td>\n",
              "      <td>31</td>\n",
              "      <td>female</td>\n",
              "      <td>1</td>\n",
              "      <td>own</td>\n",
              "      <td>little</td>\n",
              "      <td>NaN</td>\n",
              "      <td>1736</td>\n",
              "      <td>12</td>\n",
              "      <td>furniture/equipment</td>\n",
              "      <td>good</td>\n",
              "    </tr>\n",
              "    <tr>\n",
              "      <th>996</th>\n",
              "      <td>996</td>\n",
              "      <td>40</td>\n",
              "      <td>male</td>\n",
              "      <td>3</td>\n",
              "      <td>own</td>\n",
              "      <td>little</td>\n",
              "      <td>little</td>\n",
              "      <td>3857</td>\n",
              "      <td>30</td>\n",
              "      <td>car</td>\n",
              "      <td>good</td>\n",
              "    </tr>\n",
              "    <tr>\n",
              "      <th>997</th>\n",
              "      <td>997</td>\n",
              "      <td>38</td>\n",
              "      <td>male</td>\n",
              "      <td>2</td>\n",
              "      <td>own</td>\n",
              "      <td>little</td>\n",
              "      <td>NaN</td>\n",
              "      <td>804</td>\n",
              "      <td>12</td>\n",
              "      <td>radio/TV</td>\n",
              "      <td>good</td>\n",
              "    </tr>\n",
              "    <tr>\n",
              "      <th>998</th>\n",
              "      <td>998</td>\n",
              "      <td>23</td>\n",
              "      <td>male</td>\n",
              "      <td>2</td>\n",
              "      <td>free</td>\n",
              "      <td>little</td>\n",
              "      <td>little</td>\n",
              "      <td>1845</td>\n",
              "      <td>45</td>\n",
              "      <td>radio/TV</td>\n",
              "      <td>bad</td>\n",
              "    </tr>\n",
              "    <tr>\n",
              "      <th>999</th>\n",
              "      <td>999</td>\n",
              "      <td>27</td>\n",
              "      <td>male</td>\n",
              "      <td>2</td>\n",
              "      <td>own</td>\n",
              "      <td>moderate</td>\n",
              "      <td>moderate</td>\n",
              "      <td>4576</td>\n",
              "      <td>45</td>\n",
              "      <td>car</td>\n",
              "      <td>good</td>\n",
              "    </tr>\n",
              "  </tbody>\n",
              "</table>\n",
              "<p>1000 rows × 11 columns</p>\n",
              "</div>"
            ],
            "text/plain": [
              "     Unnamed: 0  Age     Sex  Job Housing Saving accounts Checking account  \\\n",
              "0             0   67    male    2     own             NaN           little   \n",
              "1             1   22  female    2     own          little         moderate   \n",
              "2             2   49    male    1     own          little              NaN   \n",
              "3             3   45    male    2    free          little           little   \n",
              "4             4   53    male    2    free          little           little   \n",
              "..          ...  ...     ...  ...     ...             ...              ...   \n",
              "995         995   31  female    1     own          little              NaN   \n",
              "996         996   40    male    3     own          little           little   \n",
              "997         997   38    male    2     own          little              NaN   \n",
              "998         998   23    male    2    free          little           little   \n",
              "999         999   27    male    2     own        moderate         moderate   \n",
              "\n",
              "     Credit amount  Duration              Purpose  Risk  \n",
              "0             1169         6             radio/TV  good  \n",
              "1             5951        48             radio/TV   bad  \n",
              "2             2096        12            education  good  \n",
              "3             7882        42  furniture/equipment  good  \n",
              "4             4870        24                  car   bad  \n",
              "..             ...       ...                  ...   ...  \n",
              "995           1736        12  furniture/equipment  good  \n",
              "996           3857        30                  car  good  \n",
              "997            804        12             radio/TV  good  \n",
              "998           1845        45             radio/TV   bad  \n",
              "999           4576        45                  car  good  \n",
              "\n",
              "[1000 rows x 11 columns]"
            ]
          },
          "execution_count": 2,
          "metadata": {},
          "output_type": "execute_result"
        }
      ],
      "source": [
        "df=pd.read_csv('https://raw.githubusercontent.com/camilousa/datasets/master/german_credit_data.csv')\n",
        "df"
      ]
    },
    {
      "cell_type": "markdown",
      "metadata": {
        "id": "bx9v_63NQPZj"
      },
      "source": [
        "# A continuación se realiza el proceso de analisis de todas las variables para saber cuales tienen mas correlación\n",
        "# Variable a Predecir: Risk"
      ]
    },
    {
      "cell_type": "code",
      "execution_count": 3,
      "metadata": {
        "colab": {
          "base_uri": "https://localhost:8080/",
          "height": 542
        },
        "id": "OXzevFWULnR6",
        "outputId": "c5b260cc-5107-45d1-951a-ab95bce0e661"
      },
      "outputs": [
        {
          "data": {
            "application/vnd.plotly.v1+json": {
              "config": {
                "plotlyServerURL": "https://plot.ly"
              },
              "data": [
                {
                  "alignmentgroup": "True",
                  "bingroup": "x",
                  "hovertemplate": "Risk=good<br>Duration=%{x}<br>count=%{y}<extra></extra>",
                  "legendgroup": "good",
                  "marker": {
                    "color": "#636efa",
                    "pattern": {
                      "shape": ""
                    }
                  },
                  "name": "good",
                  "offsetgroup": "good",
                  "orientation": "v",
                  "showlegend": true,
                  "type": "histogram",
                  "x": [
                    6,
                    12,
                    42,
                    36,
                    24,
                    36,
                    12,
                    12,
                    15,
                    24,
                    30,
                    24,
                    9,
                    6,
                    10,
                    12,
                    10,
                    6,
                    6,
                    12,
                    7,
                    18,
                    24,
                    18,
                    12,
                    12,
                    48,
                    10,
                    9,
                    30,
                    12,
                    18,
                    30,
                    11,
                    36,
                    6,
                    11,
                    12,
                    24,
                    27,
                    12,
                    18,
                    6,
                    36,
                    18,
                    9,
                    15,
                    24,
                    27,
                    12,
                    12,
                    36,
                    36,
                    7,
                    8,
                    42,
                    12,
                    11,
                    54,
                    30,
                    15,
                    18,
                    24,
                    10,
                    12,
                    18,
                    18,
                    12,
                    12,
                    24,
                    12,
                    12,
                    18,
                    36,
                    20,
                    24,
                    36,
                    6,
                    9,
                    12,
                    12,
                    24,
                    14,
                    6,
                    15,
                    18,
                    12,
                    48,
                    10,
                    12,
                    24,
                    12,
                    10,
                    12,
                    12,
                    12,
                    48,
                    15,
                    18,
                    60,
                    12,
                    27,
                    15,
                    12,
                    6,
                    36,
                    27,
                    21,
                    48,
                    6,
                    12,
                    36,
                    18,
                    6,
                    10,
                    36,
                    24,
                    24,
                    9,
                    12,
                    24,
                    6,
                    24,
                    18,
                    15,
                    10,
                    36,
                    6,
                    11,
                    24,
                    12,
                    8,
                    12,
                    6,
                    12,
                    21,
                    24,
                    15,
                    16,
                    18,
                    6,
                    6,
                    24,
                    9,
                    12,
                    27,
                    12,
                    30,
                    12,
                    12,
                    24,
                    12,
                    9,
                    36,
                    36,
                    6,
                    18,
                    36,
                    24,
                    10,
                    12,
                    12,
                    12,
                    24,
                    15,
                    36,
                    24,
                    9,
                    12,
                    18,
                    4,
                    12,
                    30,
                    6,
                    12,
                    12,
                    24,
                    12,
                    6,
                    24,
                    6,
                    12,
                    24,
                    9,
                    60,
                    24,
                    15,
                    11,
                    12,
                    24,
                    18,
                    12,
                    10,
                    36,
                    24,
                    24,
                    18,
                    12,
                    48,
                    9,
                    18,
                    12,
                    24,
                    15,
                    12,
                    18,
                    15,
                    24,
                    47,
                    48,
                    48,
                    12,
                    12,
                    24,
                    42,
                    48,
                    12,
                    10,
                    18,
                    21,
                    6,
                    10,
                    6,
                    30,
                    9,
                    48,
                    24,
                    24,
                    4,
                    12,
                    24,
                    12,
                    15,
                    24,
                    18,
                    18,
                    8,
                    12,
                    24,
                    36,
                    6,
                    24,
                    13,
                    24,
                    10,
                    24,
                    21,
                    18,
                    18,
                    10,
                    15,
                    13,
                    24,
                    6,
                    9,
                    18,
                    10,
                    12,
                    12,
                    18,
                    12,
                    12,
                    6,
                    12,
                    18,
                    18,
                    18,
                    36,
                    18,
                    10,
                    60,
                    18,
                    7,
                    6,
                    20,
                    22,
                    12,
                    30,
                    18,
                    18,
                    18,
                    15,
                    9,
                    18,
                    12,
                    36,
                    6,
                    9,
                    39,
                    12,
                    36,
                    24,
                    18,
                    18,
                    14,
                    18,
                    24,
                    15,
                    24,
                    24,
                    33,
                    10,
                    36,
                    18,
                    21,
                    15,
                    12,
                    12,
                    21,
                    18,
                    28,
                    18,
                    9,
                    5,
                    6,
                    24,
                    9,
                    6,
                    24,
                    42,
                    12,
                    12,
                    20,
                    9,
                    7,
                    12,
                    36,
                    6,
                    12,
                    24,
                    24,
                    11,
                    6,
                    18,
                    36,
                    15,
                    12,
                    12,
                    18,
                    24,
                    48,
                    33,
                    24,
                    6,
                    39,
                    24,
                    12,
                    15,
                    12,
                    24,
                    30,
                    15,
                    12,
                    12,
                    24,
                    10,
                    6,
                    12,
                    6,
                    6,
                    12,
                    24,
                    18,
                    6,
                    36,
                    9,
                    15,
                    24,
                    39,
                    36,
                    15,
                    12,
                    24,
                    6,
                    6,
                    6,
                    6,
                    24,
                    24,
                    18,
                    26,
                    15,
                    4,
                    6,
                    36,
                    12,
                    24,
                    24,
                    6,
                    18,
                    18,
                    24,
                    12,
                    24,
                    24,
                    48,
                    12,
                    6,
                    12,
                    9,
                    24,
                    6,
                    24,
                    24,
                    24,
                    48,
                    30,
                    24,
                    15,
                    9,
                    15,
                    12,
                    24,
                    24,
                    12,
                    9,
                    12,
                    9,
                    12,
                    12,
                    24,
                    21,
                    24,
                    7,
                    10,
                    24,
                    24,
                    18,
                    15,
                    21,
                    24,
                    48,
                    60,
                    6,
                    12,
                    21,
                    12,
                    15,
                    6,
                    42,
                    9,
                    24,
                    15,
                    12,
                    24,
                    60,
                    12,
                    15,
                    24,
                    18,
                    30,
                    48,
                    24,
                    14,
                    48,
                    30,
                    18,
                    12,
                    21,
                    6,
                    6,
                    24,
                    30,
                    48,
                    30,
                    24,
                    36,
                    60,
                    6,
                    30,
                    24,
                    24,
                    18,
                    6,
                    12,
                    15,
                    24,
                    36,
                    60,
                    10,
                    36,
                    9,
                    12,
                    15,
                    15,
                    24,
                    6,
                    24,
                    6,
                    12,
                    12,
                    18,
                    15,
                    24,
                    30,
                    27,
                    15,
                    9,
                    9,
                    18,
                    21,
                    9,
                    30,
                    30,
                    18,
                    24,
                    20,
                    9,
                    6,
                    15,
                    24,
                    24,
                    8,
                    24,
                    4,
                    36,
                    18,
                    6,
                    24,
                    10,
                    21,
                    24,
                    39,
                    13,
                    15,
                    21,
                    15,
                    6,
                    12,
                    30,
                    6,
                    24,
                    15,
                    12,
                    24,
                    12,
                    10,
                    12,
                    12,
                    24,
                    21,
                    24,
                    12,
                    36,
                    18,
                    36,
                    18,
                    24,
                    12,
                    20,
                    18,
                    22,
                    48,
                    24,
                    6,
                    24,
                    24,
                    9,
                    12,
                    24,
                    9,
                    24,
                    18,
                    20,
                    12,
                    12,
                    6,
                    12,
                    42,
                    8,
                    6,
                    36,
                    6,
                    6,
                    36,
                    12,
                    12,
                    8,
                    18,
                    21,
                    48,
                    24,
                    24,
                    12,
                    4,
                    24,
                    24,
                    21,
                    24,
                    18,
                    21,
                    24,
                    9,
                    24,
                    15,
                    36,
                    24,
                    10,
                    15,
                    9,
                    24,
                    27,
                    15,
                    18,
                    12,
                    36,
                    12,
                    36,
                    6,
                    24,
                    15,
                    12,
                    11,
                    18,
                    36,
                    30,
                    24,
                    24,
                    30,
                    18,
                    24,
                    36,
                    28,
                    27,
                    15,
                    12,
                    36,
                    18,
                    36,
                    21,
                    12,
                    15,
                    20,
                    36,
                    15,
                    24,
                    12,
                    21,
                    36,
                    15,
                    9,
                    36,
                    30,
                    11,
                    10,
                    18,
                    48,
                    12,
                    18,
                    30,
                    12,
                    24,
                    9,
                    12,
                    12,
                    6,
                    24,
                    12,
                    10,
                    24,
                    4,
                    15,
                    48,
                    12,
                    18,
                    12,
                    24,
                    30,
                    9,
                    24,
                    6,
                    21,
                    15,
                    6,
                    30,
                    15,
                    42,
                    11,
                    15,
                    24,
                    30,
                    24,
                    6,
                    18,
                    21,
                    24,
                    15,
                    42,
                    13,
                    24,
                    24,
                    12,
                    15,
                    18,
                    36,
                    12,
                    12,
                    30,
                    12,
                    45
                  ],
                  "xaxis": "x",
                  "yaxis": "y"
                },
                {
                  "alignmentgroup": "True",
                  "bingroup": "x",
                  "hovertemplate": "Risk=bad<br>Duration=%{x}<br>count=%{y}<extra></extra>",
                  "legendgroup": "bad",
                  "marker": {
                    "color": "#EF553B",
                    "pattern": {
                      "shape": ""
                    }
                  },
                  "name": "bad",
                  "offsetgroup": "bad",
                  "orientation": "v",
                  "showlegend": true,
                  "type": "histogram",
                  "x": [
                    48,
                    24,
                    30,
                    12,
                    48,
                    24,
                    24,
                    24,
                    60,
                    45,
                    18,
                    48,
                    36,
                    12,
                    36,
                    36,
                    48,
                    36,
                    36,
                    42,
                    24,
                    36,
                    12,
                    12,
                    54,
                    24,
                    18,
                    36,
                    42,
                    33,
                    21,
                    18,
                    12,
                    12,
                    36,
                    12,
                    18,
                    12,
                    18,
                    24,
                    15,
                    24,
                    21,
                    30,
                    36,
                    36,
                    21,
                    18,
                    9,
                    12,
                    24,
                    48,
                    27,
                    45,
                    9,
                    12,
                    18,
                    12,
                    27,
                    30,
                    48,
                    12,
                    9,
                    36,
                    24,
                    6,
                    21,
                    24,
                    48,
                    18,
                    30,
                    12,
                    15,
                    14,
                    48,
                    30,
                    6,
                    24,
                    36,
                    48,
                    36,
                    24,
                    48,
                    12,
                    8,
                    12,
                    36,
                    30,
                    24,
                    18,
                    60,
                    48,
                    24,
                    6,
                    15,
                    9,
                    9,
                    12,
                    24,
                    36,
                    30,
                    18,
                    36,
                    60,
                    48,
                    36,
                    18,
                    12,
                    24,
                    24,
                    12,
                    12,
                    24,
                    12,
                    18,
                    12,
                    18,
                    24,
                    12,
                    12,
                    12,
                    48,
                    36,
                    15,
                    24,
                    12,
                    24,
                    24,
                    6,
                    9,
                    18,
                    18,
                    6,
                    27,
                    24,
                    36,
                    24,
                    24,
                    24,
                    10,
                    15,
                    12,
                    36,
                    18,
                    48,
                    36,
                    15,
                    21,
                    48,
                    12,
                    30,
                    18,
                    24,
                    12,
                    48,
                    12,
                    18,
                    21,
                    24,
                    18,
                    24,
                    36,
                    12,
                    48,
                    24,
                    36,
                    18,
                    36,
                    18,
                    18,
                    12,
                    24,
                    24,
                    6,
                    24,
                    24,
                    18,
                    9,
                    24,
                    36,
                    36,
                    12,
                    10,
                    18,
                    30,
                    18,
                    48,
                    18,
                    9,
                    18,
                    9,
                    24,
                    42,
                    18,
                    15,
                    36,
                    12,
                    24,
                    12,
                    12,
                    24,
                    36,
                    12,
                    12,
                    12,
                    21,
                    72,
                    12,
                    48,
                    48,
                    12,
                    6,
                    60,
                    9,
                    6,
                    12,
                    27,
                    18,
                    48,
                    24,
                    24,
                    30,
                    12,
                    18,
                    12,
                    24,
                    15,
                    12,
                    18,
                    21,
                    30,
                    36,
                    24,
                    39,
                    12,
                    48,
                    40,
                    21,
                    18,
                    36,
                    15,
                    36,
                    48,
                    48,
                    18,
                    36,
                    18,
                    18,
                    36,
                    18,
                    45,
                    15,
                    12,
                    36,
                    18,
                    18,
                    12,
                    20,
                    18,
                    15,
                    18,
                    24,
                    10,
                    9,
                    24,
                    12,
                    48,
                    18,
                    16,
                    24,
                    24,
                    48,
                    6,
                    24,
                    24,
                    9,
                    24,
                    12,
                    48,
                    9,
                    30,
                    9,
                    60,
                    24,
                    18,
                    24,
                    36,
                    24,
                    36,
                    28,
                    24,
                    27,
                    24,
                    60,
                    24,
                    15,
                    30,
                    48,
                    36,
                    45
                  ],
                  "xaxis": "x",
                  "yaxis": "y"
                }
              ],
              "layout": {
                "barmode": "relative",
                "legend": {
                  "title": {
                    "text": "Risk"
                  },
                  "tracegroupgap": 0
                },
                "template": {
                  "data": {
                    "bar": [
                      {
                        "error_x": {
                          "color": "#2a3f5f"
                        },
                        "error_y": {
                          "color": "#2a3f5f"
                        },
                        "marker": {
                          "line": {
                            "color": "#E5ECF6",
                            "width": 0.5
                          },
                          "pattern": {
                            "fillmode": "overlay",
                            "size": 10,
                            "solidity": 0.2
                          }
                        },
                        "type": "bar"
                      }
                    ],
                    "barpolar": [
                      {
                        "marker": {
                          "line": {
                            "color": "#E5ECF6",
                            "width": 0.5
                          },
                          "pattern": {
                            "fillmode": "overlay",
                            "size": 10,
                            "solidity": 0.2
                          }
                        },
                        "type": "barpolar"
                      }
                    ],
                    "carpet": [
                      {
                        "aaxis": {
                          "endlinecolor": "#2a3f5f",
                          "gridcolor": "white",
                          "linecolor": "white",
                          "minorgridcolor": "white",
                          "startlinecolor": "#2a3f5f"
                        },
                        "baxis": {
                          "endlinecolor": "#2a3f5f",
                          "gridcolor": "white",
                          "linecolor": "white",
                          "minorgridcolor": "white",
                          "startlinecolor": "#2a3f5f"
                        },
                        "type": "carpet"
                      }
                    ],
                    "choropleth": [
                      {
                        "colorbar": {
                          "outlinewidth": 0,
                          "ticks": ""
                        },
                        "type": "choropleth"
                      }
                    ],
                    "contour": [
                      {
                        "colorbar": {
                          "outlinewidth": 0,
                          "ticks": ""
                        },
                        "colorscale": [
                          [
                            0,
                            "#0d0887"
                          ],
                          [
                            0.1111111111111111,
                            "#46039f"
                          ],
                          [
                            0.2222222222222222,
                            "#7201a8"
                          ],
                          [
                            0.3333333333333333,
                            "#9c179e"
                          ],
                          [
                            0.4444444444444444,
                            "#bd3786"
                          ],
                          [
                            0.5555555555555556,
                            "#d8576b"
                          ],
                          [
                            0.6666666666666666,
                            "#ed7953"
                          ],
                          [
                            0.7777777777777778,
                            "#fb9f3a"
                          ],
                          [
                            0.8888888888888888,
                            "#fdca26"
                          ],
                          [
                            1,
                            "#f0f921"
                          ]
                        ],
                        "type": "contour"
                      }
                    ],
                    "contourcarpet": [
                      {
                        "colorbar": {
                          "outlinewidth": 0,
                          "ticks": ""
                        },
                        "type": "contourcarpet"
                      }
                    ],
                    "heatmap": [
                      {
                        "colorbar": {
                          "outlinewidth": 0,
                          "ticks": ""
                        },
                        "colorscale": [
                          [
                            0,
                            "#0d0887"
                          ],
                          [
                            0.1111111111111111,
                            "#46039f"
                          ],
                          [
                            0.2222222222222222,
                            "#7201a8"
                          ],
                          [
                            0.3333333333333333,
                            "#9c179e"
                          ],
                          [
                            0.4444444444444444,
                            "#bd3786"
                          ],
                          [
                            0.5555555555555556,
                            "#d8576b"
                          ],
                          [
                            0.6666666666666666,
                            "#ed7953"
                          ],
                          [
                            0.7777777777777778,
                            "#fb9f3a"
                          ],
                          [
                            0.8888888888888888,
                            "#fdca26"
                          ],
                          [
                            1,
                            "#f0f921"
                          ]
                        ],
                        "type": "heatmap"
                      }
                    ],
                    "heatmapgl": [
                      {
                        "colorbar": {
                          "outlinewidth": 0,
                          "ticks": ""
                        },
                        "colorscale": [
                          [
                            0,
                            "#0d0887"
                          ],
                          [
                            0.1111111111111111,
                            "#46039f"
                          ],
                          [
                            0.2222222222222222,
                            "#7201a8"
                          ],
                          [
                            0.3333333333333333,
                            "#9c179e"
                          ],
                          [
                            0.4444444444444444,
                            "#bd3786"
                          ],
                          [
                            0.5555555555555556,
                            "#d8576b"
                          ],
                          [
                            0.6666666666666666,
                            "#ed7953"
                          ],
                          [
                            0.7777777777777778,
                            "#fb9f3a"
                          ],
                          [
                            0.8888888888888888,
                            "#fdca26"
                          ],
                          [
                            1,
                            "#f0f921"
                          ]
                        ],
                        "type": "heatmapgl"
                      }
                    ],
                    "histogram": [
                      {
                        "marker": {
                          "pattern": {
                            "fillmode": "overlay",
                            "size": 10,
                            "solidity": 0.2
                          }
                        },
                        "type": "histogram"
                      }
                    ],
                    "histogram2d": [
                      {
                        "colorbar": {
                          "outlinewidth": 0,
                          "ticks": ""
                        },
                        "colorscale": [
                          [
                            0,
                            "#0d0887"
                          ],
                          [
                            0.1111111111111111,
                            "#46039f"
                          ],
                          [
                            0.2222222222222222,
                            "#7201a8"
                          ],
                          [
                            0.3333333333333333,
                            "#9c179e"
                          ],
                          [
                            0.4444444444444444,
                            "#bd3786"
                          ],
                          [
                            0.5555555555555556,
                            "#d8576b"
                          ],
                          [
                            0.6666666666666666,
                            "#ed7953"
                          ],
                          [
                            0.7777777777777778,
                            "#fb9f3a"
                          ],
                          [
                            0.8888888888888888,
                            "#fdca26"
                          ],
                          [
                            1,
                            "#f0f921"
                          ]
                        ],
                        "type": "histogram2d"
                      }
                    ],
                    "histogram2dcontour": [
                      {
                        "colorbar": {
                          "outlinewidth": 0,
                          "ticks": ""
                        },
                        "colorscale": [
                          [
                            0,
                            "#0d0887"
                          ],
                          [
                            0.1111111111111111,
                            "#46039f"
                          ],
                          [
                            0.2222222222222222,
                            "#7201a8"
                          ],
                          [
                            0.3333333333333333,
                            "#9c179e"
                          ],
                          [
                            0.4444444444444444,
                            "#bd3786"
                          ],
                          [
                            0.5555555555555556,
                            "#d8576b"
                          ],
                          [
                            0.6666666666666666,
                            "#ed7953"
                          ],
                          [
                            0.7777777777777778,
                            "#fb9f3a"
                          ],
                          [
                            0.8888888888888888,
                            "#fdca26"
                          ],
                          [
                            1,
                            "#f0f921"
                          ]
                        ],
                        "type": "histogram2dcontour"
                      }
                    ],
                    "mesh3d": [
                      {
                        "colorbar": {
                          "outlinewidth": 0,
                          "ticks": ""
                        },
                        "type": "mesh3d"
                      }
                    ],
                    "parcoords": [
                      {
                        "line": {
                          "colorbar": {
                            "outlinewidth": 0,
                            "ticks": ""
                          }
                        },
                        "type": "parcoords"
                      }
                    ],
                    "pie": [
                      {
                        "automargin": true,
                        "type": "pie"
                      }
                    ],
                    "scatter": [
                      {
                        "fillpattern": {
                          "fillmode": "overlay",
                          "size": 10,
                          "solidity": 0.2
                        },
                        "type": "scatter"
                      }
                    ],
                    "scatter3d": [
                      {
                        "line": {
                          "colorbar": {
                            "outlinewidth": 0,
                            "ticks": ""
                          }
                        },
                        "marker": {
                          "colorbar": {
                            "outlinewidth": 0,
                            "ticks": ""
                          }
                        },
                        "type": "scatter3d"
                      }
                    ],
                    "scattercarpet": [
                      {
                        "marker": {
                          "colorbar": {
                            "outlinewidth": 0,
                            "ticks": ""
                          }
                        },
                        "type": "scattercarpet"
                      }
                    ],
                    "scattergeo": [
                      {
                        "marker": {
                          "colorbar": {
                            "outlinewidth": 0,
                            "ticks": ""
                          }
                        },
                        "type": "scattergeo"
                      }
                    ],
                    "scattergl": [
                      {
                        "marker": {
                          "colorbar": {
                            "outlinewidth": 0,
                            "ticks": ""
                          }
                        },
                        "type": "scattergl"
                      }
                    ],
                    "scattermapbox": [
                      {
                        "marker": {
                          "colorbar": {
                            "outlinewidth": 0,
                            "ticks": ""
                          }
                        },
                        "type": "scattermapbox"
                      }
                    ],
                    "scatterpolar": [
                      {
                        "marker": {
                          "colorbar": {
                            "outlinewidth": 0,
                            "ticks": ""
                          }
                        },
                        "type": "scatterpolar"
                      }
                    ],
                    "scatterpolargl": [
                      {
                        "marker": {
                          "colorbar": {
                            "outlinewidth": 0,
                            "ticks": ""
                          }
                        },
                        "type": "scatterpolargl"
                      }
                    ],
                    "scatterternary": [
                      {
                        "marker": {
                          "colorbar": {
                            "outlinewidth": 0,
                            "ticks": ""
                          }
                        },
                        "type": "scatterternary"
                      }
                    ],
                    "surface": [
                      {
                        "colorbar": {
                          "outlinewidth": 0,
                          "ticks": ""
                        },
                        "colorscale": [
                          [
                            0,
                            "#0d0887"
                          ],
                          [
                            0.1111111111111111,
                            "#46039f"
                          ],
                          [
                            0.2222222222222222,
                            "#7201a8"
                          ],
                          [
                            0.3333333333333333,
                            "#9c179e"
                          ],
                          [
                            0.4444444444444444,
                            "#bd3786"
                          ],
                          [
                            0.5555555555555556,
                            "#d8576b"
                          ],
                          [
                            0.6666666666666666,
                            "#ed7953"
                          ],
                          [
                            0.7777777777777778,
                            "#fb9f3a"
                          ],
                          [
                            0.8888888888888888,
                            "#fdca26"
                          ],
                          [
                            1,
                            "#f0f921"
                          ]
                        ],
                        "type": "surface"
                      }
                    ],
                    "table": [
                      {
                        "cells": {
                          "fill": {
                            "color": "#EBF0F8"
                          },
                          "line": {
                            "color": "white"
                          }
                        },
                        "header": {
                          "fill": {
                            "color": "#C8D4E3"
                          },
                          "line": {
                            "color": "white"
                          }
                        },
                        "type": "table"
                      }
                    ]
                  },
                  "layout": {
                    "annotationdefaults": {
                      "arrowcolor": "#2a3f5f",
                      "arrowhead": 0,
                      "arrowwidth": 1
                    },
                    "autotypenumbers": "strict",
                    "coloraxis": {
                      "colorbar": {
                        "outlinewidth": 0,
                        "ticks": ""
                      }
                    },
                    "colorscale": {
                      "diverging": [
                        [
                          0,
                          "#8e0152"
                        ],
                        [
                          0.1,
                          "#c51b7d"
                        ],
                        [
                          0.2,
                          "#de77ae"
                        ],
                        [
                          0.3,
                          "#f1b6da"
                        ],
                        [
                          0.4,
                          "#fde0ef"
                        ],
                        [
                          0.5,
                          "#f7f7f7"
                        ],
                        [
                          0.6,
                          "#e6f5d0"
                        ],
                        [
                          0.7,
                          "#b8e186"
                        ],
                        [
                          0.8,
                          "#7fbc41"
                        ],
                        [
                          0.9,
                          "#4d9221"
                        ],
                        [
                          1,
                          "#276419"
                        ]
                      ],
                      "sequential": [
                        [
                          0,
                          "#0d0887"
                        ],
                        [
                          0.1111111111111111,
                          "#46039f"
                        ],
                        [
                          0.2222222222222222,
                          "#7201a8"
                        ],
                        [
                          0.3333333333333333,
                          "#9c179e"
                        ],
                        [
                          0.4444444444444444,
                          "#bd3786"
                        ],
                        [
                          0.5555555555555556,
                          "#d8576b"
                        ],
                        [
                          0.6666666666666666,
                          "#ed7953"
                        ],
                        [
                          0.7777777777777778,
                          "#fb9f3a"
                        ],
                        [
                          0.8888888888888888,
                          "#fdca26"
                        ],
                        [
                          1,
                          "#f0f921"
                        ]
                      ],
                      "sequentialminus": [
                        [
                          0,
                          "#0d0887"
                        ],
                        [
                          0.1111111111111111,
                          "#46039f"
                        ],
                        [
                          0.2222222222222222,
                          "#7201a8"
                        ],
                        [
                          0.3333333333333333,
                          "#9c179e"
                        ],
                        [
                          0.4444444444444444,
                          "#bd3786"
                        ],
                        [
                          0.5555555555555556,
                          "#d8576b"
                        ],
                        [
                          0.6666666666666666,
                          "#ed7953"
                        ],
                        [
                          0.7777777777777778,
                          "#fb9f3a"
                        ],
                        [
                          0.8888888888888888,
                          "#fdca26"
                        ],
                        [
                          1,
                          "#f0f921"
                        ]
                      ]
                    },
                    "colorway": [
                      "#636efa",
                      "#EF553B",
                      "#00cc96",
                      "#ab63fa",
                      "#FFA15A",
                      "#19d3f3",
                      "#FF6692",
                      "#B6E880",
                      "#FF97FF",
                      "#FECB52"
                    ],
                    "font": {
                      "color": "#2a3f5f"
                    },
                    "geo": {
                      "bgcolor": "white",
                      "lakecolor": "white",
                      "landcolor": "#E5ECF6",
                      "showlakes": true,
                      "showland": true,
                      "subunitcolor": "white"
                    },
                    "hoverlabel": {
                      "align": "left"
                    },
                    "hovermode": "closest",
                    "mapbox": {
                      "style": "light"
                    },
                    "paper_bgcolor": "white",
                    "plot_bgcolor": "#E5ECF6",
                    "polar": {
                      "angularaxis": {
                        "gridcolor": "white",
                        "linecolor": "white",
                        "ticks": ""
                      },
                      "bgcolor": "#E5ECF6",
                      "radialaxis": {
                        "gridcolor": "white",
                        "linecolor": "white",
                        "ticks": ""
                      }
                    },
                    "scene": {
                      "xaxis": {
                        "backgroundcolor": "#E5ECF6",
                        "gridcolor": "white",
                        "gridwidth": 2,
                        "linecolor": "white",
                        "showbackground": true,
                        "ticks": "",
                        "zerolinecolor": "white"
                      },
                      "yaxis": {
                        "backgroundcolor": "#E5ECF6",
                        "gridcolor": "white",
                        "gridwidth": 2,
                        "linecolor": "white",
                        "showbackground": true,
                        "ticks": "",
                        "zerolinecolor": "white"
                      },
                      "zaxis": {
                        "backgroundcolor": "#E5ECF6",
                        "gridcolor": "white",
                        "gridwidth": 2,
                        "linecolor": "white",
                        "showbackground": true,
                        "ticks": "",
                        "zerolinecolor": "white"
                      }
                    },
                    "shapedefaults": {
                      "line": {
                        "color": "#2a3f5f"
                      }
                    },
                    "ternary": {
                      "aaxis": {
                        "gridcolor": "white",
                        "linecolor": "white",
                        "ticks": ""
                      },
                      "baxis": {
                        "gridcolor": "white",
                        "linecolor": "white",
                        "ticks": ""
                      },
                      "bgcolor": "#E5ECF6",
                      "caxis": {
                        "gridcolor": "white",
                        "linecolor": "white",
                        "ticks": ""
                      }
                    },
                    "title": {
                      "x": 0.05
                    },
                    "xaxis": {
                      "automargin": true,
                      "gridcolor": "white",
                      "linecolor": "white",
                      "ticks": "",
                      "title": {
                        "standoff": 15
                      },
                      "zerolinecolor": "white",
                      "zerolinewidth": 2
                    },
                    "yaxis": {
                      "automargin": true,
                      "gridcolor": "white",
                      "linecolor": "white",
                      "ticks": "",
                      "title": {
                        "standoff": 15
                      },
                      "zerolinecolor": "white",
                      "zerolinewidth": 2
                    }
                  }
                },
                "title": {
                  "text": "Histogram of Duration by Risk Category"
                },
                "xaxis": {
                  "anchor": "y",
                  "domain": [
                    0,
                    1
                  ],
                  "title": {
                    "text": "Duration"
                  }
                },
                "yaxis": {
                  "anchor": "x",
                  "domain": [
                    0,
                    1
                  ],
                  "title": {
                    "text": "count"
                  }
                }
              }
            }
          },
          "metadata": {},
          "output_type": "display_data"
        }
      ],
      "source": [
        "fig = px.histogram(df, x=\"Duration\", color=\"Risk\",\n",
        "                   title=\"Histogram of Duration by Risk Category\")\n",
        "fig.show()"
      ]
    },
    {
      "cell_type": "code",
      "execution_count": 4,
      "metadata": {
        "colab": {
          "base_uri": "https://localhost:8080/",
          "height": 542
        },
        "id": "uRCWeDfTLqTq",
        "outputId": "9202bea7-da1b-44e5-9cba-d661ef666bc1"
      },
      "outputs": [
        {
          "data": {
            "application/vnd.plotly.v1+json": {
              "config": {
                "plotlyServerURL": "https://plot.ly"
              },
              "data": [
                {
                  "alignmentgroup": "True",
                  "bingroup": "x",
                  "hovertemplate": "Risk=good<br>Age=%{x}<br>count=%{y}<extra></extra>",
                  "legendgroup": "good",
                  "marker": {
                    "color": "#636efa",
                    "pattern": {
                      "shape": ""
                    }
                  },
                  "name": "good",
                  "offsetgroup": "good",
                  "orientation": "v",
                  "showlegend": true,
                  "type": "histogram",
                  "x": [
                    67,
                    49,
                    45,
                    35,
                    53,
                    35,
                    61,
                    22,
                    28,
                    53,
                    25,
                    31,
                    48,
                    44,
                    48,
                    44,
                    26,
                    36,
                    39,
                    42,
                    34,
                    36,
                    27,
                    30,
                    57,
                    33,
                    31,
                    37,
                    24,
                    30,
                    26,
                    44,
                    24,
                    35,
                    39,
                    23,
                    39,
                    28,
                    29,
                    30,
                    25,
                    31,
                    26,
                    31,
                    23,
                    27,
                    50,
                    26,
                    48,
                    29,
                    22,
                    25,
                    30,
                    46,
                    51,
                    41,
                    66,
                    51,
                    39,
                    22,
                    47,
                    24,
                    58,
                    52,
                    29,
                    27,
                    30,
                    56,
                    54,
                    20,
                    54,
                    61,
                    34,
                    36,
                    36,
                    41,
                    24,
                    24,
                    35,
                    26,
                    32,
                    30,
                    35,
                    31,
                    23,
                    28,
                    35,
                    47,
                    27,
                    36,
                    41,
                    24,
                    63,
                    30,
                    40,
                    34,
                    24,
                    27,
                    47,
                    21,
                    38,
                    27,
                    35,
                    44,
                    27,
                    30,
                    27,
                    23,
                    30,
                    39,
                    51,
                    28,
                    46,
                    42,
                    38,
                    24,
                    29,
                    36,
                    48,
                    45,
                    38,
                    34,
                    36,
                    30,
                    36,
                    70,
                    36,
                    32,
                    20,
                    25,
                    26,
                    33,
                    42,
                    52,
                    31,
                    65,
                    50,
                    31,
                    68,
                    33,
                    29,
                    28,
                    36,
                    52,
                    27,
                    26,
                    38,
                    38,
                    43,
                    26,
                    21,
                    55,
                    33,
                    45,
                    51,
                    39,
                    31,
                    23,
                    24,
                    64,
                    26,
                    23,
                    30,
                    32,
                    30,
                    27,
                    22,
                    51,
                    35,
                    25,
                    42,
                    35,
                    39,
                    51,
                    27,
                    35,
                    25,
                    52,
                    35,
                    26,
                    39,
                    46,
                    35,
                    24,
                    27,
                    35,
                    23,
                    57,
                    27,
                    55,
                    36,
                    57,
                    32,
                    36,
                    38,
                    25,
                    32,
                    37,
                    36,
                    32,
                    26,
                    49,
                    29,
                    23,
                    50,
                    49,
                    63,
                    37,
                    35,
                    26,
                    31,
                    49,
                    26,
                    44,
                    56,
                    46,
                    20,
                    45,
                    43,
                    32,
                    54,
                    49,
                    33,
                    24,
                    22,
                    40,
                    25,
                    26,
                    29,
                    38,
                    48,
                    32,
                    27,
                    34,
                    28,
                    36,
                    39,
                    49,
                    34,
                    31,
                    28,
                    75,
                    23,
                    28,
                    31,
                    24,
                    26,
                    25,
                    33,
                    37,
                    43,
                    23,
                    23,
                    34,
                    23,
                    38,
                    46,
                    49,
                    28,
                    61,
                    37,
                    36,
                    21,
                    36,
                    27,
                    22,
                    40,
                    36,
                    33,
                    23,
                    63,
                    34,
                    36,
                    52,
                    39,
                    25,
                    26,
                    26,
                    25,
                    21,
                    40,
                    27,
                    27,
                    30,
                    19,
                    39,
                    31,
                    31,
                    32,
                    55,
                    46,
                    43,
                    39,
                    28,
                    27,
                    43,
                    43,
                    27,
                    26,
                    20,
                    35,
                    40,
                    35,
                    23,
                    31,
                    20,
                    30,
                    47,
                    34,
                    21,
                    29,
                    46,
                    20,
                    74,
                    36,
                    33,
                    25,
                    23,
                    37,
                    65,
                    39,
                    30,
                    29,
                    41,
                    35,
                    55,
                    30,
                    29,
                    34,
                    35,
                    29,
                    36,
                    27,
                    32,
                    37,
                    36,
                    34,
                    38,
                    34,
                    63,
                    32,
                    26,
                    35,
                    36,
                    24,
                    25,
                    39,
                    44,
                    23,
                    26,
                    57,
                    30,
                    44,
                    52,
                    62,
                    35,
                    26,
                    26,
                    27,
                    38,
                    39,
                    40,
                    32,
                    28,
                    42,
                    49,
                    36,
                    28,
                    45,
                    32,
                    26,
                    20,
                    54,
                    37,
                    40,
                    43,
                    36,
                    44,
                    23,
                    26,
                    30,
                    31,
                    42,
                    41,
                    32,
                    41,
                    26,
                    25,
                    75,
                    37,
                    45,
                    60,
                    61,
                    37,
                    32,
                    35,
                    23,
                    45,
                    27,
                    67,
                    49,
                    29,
                    37,
                    23,
                    34,
                    41,
                    38,
                    26,
                    22,
                    27,
                    24,
                    27,
                    33,
                    27,
                    49,
                    26,
                    52,
                    36,
                    21,
                    58,
                    42,
                    36,
                    32,
                    45,
                    23,
                    22,
                    74,
                    33,
                    45,
                    29,
                    22,
                    48,
                    27,
                    37,
                    49,
                    27,
                    22,
                    35,
                    41,
                    36,
                    64,
                    28,
                    23,
                    47,
                    28,
                    21,
                    34,
                    38,
                    33,
                    32,
                    32,
                    50,
                    35,
                    22,
                    37,
                    28,
                    41,
                    23,
                    50,
                    35,
                    50,
                    27,
                    34,
                    27,
                    47,
                    27,
                    31,
                    42,
                    24,
                    26,
                    33,
                    64,
                    26,
                    56,
                    37,
                    33,
                    47,
                    31,
                    34,
                    27,
                    30,
                    35,
                    31,
                    25,
                    25,
                    29,
                    44,
                    28,
                    50,
                    29,
                    38,
                    24,
                    40,
                    47,
                    41,
                    32,
                    35,
                    25,
                    37,
                    32,
                    46,
                    25,
                    63,
                    40,
                    32,
                    31,
                    31,
                    66,
                    41,
                    47,
                    36,
                    33,
                    44,
                    28,
                    37,
                    29,
                    35,
                    45,
                    32,
                    23,
                    41,
                    22,
                    30,
                    28,
                    23,
                    26,
                    33,
                    49,
                    23,
                    25,
                    74,
                    31,
                    59,
                    24,
                    27,
                    40,
                    31,
                    28,
                    63,
                    26,
                    36,
                    52,
                    66,
                    37,
                    25,
                    38,
                    67,
                    60,
                    31,
                    60,
                    35,
                    40,
                    38,
                    41,
                    27,
                    51,
                    32,
                    22,
                    22,
                    54,
                    35,
                    54,
                    48,
                    24,
                    35,
                    24,
                    26,
                    65,
                    55,
                    26,
                    28,
                    54,
                    62,
                    24,
                    43,
                    27,
                    24,
                    47,
                    35,
                    30,
                    38,
                    44,
                    42,
                    21,
                    23,
                    63,
                    46,
                    28,
                    50,
                    47,
                    35,
                    28,
                    59,
                    43,
                    35,
                    45,
                    33,
                    40,
                    28,
                    26,
                    27,
                    32,
                    20,
                    27,
                    42,
                    37,
                    24,
                    40,
                    46,
                    26,
                    24,
                    29,
                    40,
                    36,
                    28,
                    36,
                    38,
                    48,
                    36,
                    65,
                    34,
                    34,
                    40,
                    43,
                    46,
                    38,
                    34,
                    29,
                    31,
                    28,
                    35,
                    33,
                    44,
                    42,
                    40,
                    36,
                    20,
                    24,
                    27,
                    46,
                    33,
                    34,
                    25,
                    28,
                    32,
                    28,
                    37,
                    30,
                    21,
                    58,
                    43,
                    24,
                    30,
                    42,
                    23,
                    30,
                    46,
                    45,
                    31,
                    31,
                    42,
                    46,
                    30,
                    38,
                    40,
                    29,
                    57,
                    49,
                    37,
                    30,
                    30,
                    47,
                    29,
                    22,
                    26,
                    54,
                    29,
                    40,
                    22,
                    43,
                    33,
                    57,
                    64,
                    42,
                    28,
                    30,
                    25,
                    33,
                    64,
                    29,
                    48,
                    37,
                    34,
                    23,
                    30,
                    50,
                    31,
                    40,
                    38,
                    27
                  ],
                  "xaxis": "x",
                  "yaxis": "y"
                },
                {
                  "alignmentgroup": "True",
                  "bingroup": "x",
                  "hovertemplate": "Risk=bad<br>Age=%{x}<br>count=%{y}<extra></extra>",
                  "legendgroup": "bad",
                  "marker": {
                    "color": "#EF553B",
                    "pattern": {
                      "shape": ""
                    }
                  },
                  "name": "bad",
                  "offsetgroup": "bad",
                  "orientation": "v",
                  "showlegend": true,
                  "type": "histogram",
                  "x": [
                    22,
                    53,
                    28,
                    25,
                    24,
                    60,
                    32,
                    44,
                    63,
                    25,
                    37,
                    58,
                    57,
                    52,
                    23,
                    61,
                    25,
                    37,
                    40,
                    34,
                    44,
                    47,
                    28,
                    33,
                    58,
                    39,
                    39,
                    25,
                    30,
                    23,
                    25,
                    27,
                    30,
                    29,
                    29,
                    66,
                    22,
                    20,
                    33,
                    31,
                    33,
                    34,
                    26,
                    53,
                    28,
                    30,
                    40,
                    36,
                    74,
                    20,
                    54,
                    34,
                    36,
                    21,
                    34,
                    27,
                    40,
                    21,
                    50,
                    66,
                    27,
                    53,
                    22,
                    26,
                    30,
                    23,
                    61,
                    29,
                    24,
                    22,
                    24,
                    29,
                    37,
                    45,
                    28,
                    34,
                    32,
                    48,
                    28,
                    26,
                    42,
                    37,
                    44,
                    33,
                    24,
                    25,
                    31,
                    28,
                    32,
                    30,
                    24,
                    24,
                    23,
                    44,
                    24,
                    32,
                    29,
                    28,
                    23,
                    26,
                    23,
                    25,
                    42,
                    60,
                    37,
                    57,
                    38,
                    46,
                    27,
                    22,
                    28,
                    42,
                    35,
                    33,
                    33,
                    25,
                    55,
                    29,
                    25,
                    26,
                    41,
                    30,
                    34,
                    61,
                    31,
                    35,
                    29,
                    22,
                    23,
                    28,
                    33,
                    26,
                    47,
                    42,
                    20,
                    29,
                    27,
                    38,
                    24,
                    27,
                    34,
                    26,
                    23,
                    24,
                    53,
                    31,
                    28,
                    33,
                    42,
                    23,
                    31,
                    34,
                    43,
                    24,
                    34,
                    22,
                    28,
                    29,
                    27,
                    31,
                    24,
                    37,
                    36,
                    31,
                    23,
                    27,
                    30,
                    33,
                    20,
                    47,
                    60,
                    20,
                    40,
                    32,
                    23,
                    36,
                    31,
                    30,
                    34,
                    28,
                    50,
                    22,
                    48,
                    22,
                    21,
                    32,
                    38,
                    65,
                    29,
                    44,
                    19,
                    25,
                    26,
                    27,
                    40,
                    27,
                    26,
                    38,
                    40,
                    37,
                    45,
                    42,
                    41,
                    23,
                    43,
                    41,
                    24,
                    29,
                    46,
                    24,
                    25,
                    35,
                    27,
                    34,
                    24,
                    24,
                    21,
                    25,
                    59,
                    21,
                    23,
                    26,
                    37,
                    23,
                    55,
                    32,
                    39,
                    35,
                    24,
                    30,
                    31,
                    25,
                    25,
                    25,
                    23,
                    50,
                    27,
                    39,
                    51,
                    24,
                    26,
                    24,
                    54,
                    46,
                    26,
                    41,
                    33,
                    36,
                    47,
                    23,
                    29,
                    25,
                    48,
                    29,
                    23,
                    68,
                    57,
                    33,
                    32,
                    29,
                    28,
                    35,
                    25,
                    27,
                    43,
                    53,
                    23,
                    42,
                    43,
                    25,
                    31,
                    32,
                    68,
                    33,
                    39,
                    22,
                    55,
                    46,
                    39,
                    22,
                    30,
                    28,
                    42,
                    30,
                    43,
                    31,
                    24,
                    28,
                    26,
                    45,
                    35,
                    23,
                    29,
                    36,
                    47,
                    25,
                    49,
                    33,
                    26,
                    23
                  ],
                  "xaxis": "x",
                  "yaxis": "y"
                }
              ],
              "layout": {
                "barmode": "relative",
                "legend": {
                  "title": {
                    "text": "Risk"
                  },
                  "tracegroupgap": 0
                },
                "margin": {
                  "t": 60
                },
                "template": {
                  "data": {
                    "bar": [
                      {
                        "error_x": {
                          "color": "#2a3f5f"
                        },
                        "error_y": {
                          "color": "#2a3f5f"
                        },
                        "marker": {
                          "line": {
                            "color": "#E5ECF6",
                            "width": 0.5
                          },
                          "pattern": {
                            "fillmode": "overlay",
                            "size": 10,
                            "solidity": 0.2
                          }
                        },
                        "type": "bar"
                      }
                    ],
                    "barpolar": [
                      {
                        "marker": {
                          "line": {
                            "color": "#E5ECF6",
                            "width": 0.5
                          },
                          "pattern": {
                            "fillmode": "overlay",
                            "size": 10,
                            "solidity": 0.2
                          }
                        },
                        "type": "barpolar"
                      }
                    ],
                    "carpet": [
                      {
                        "aaxis": {
                          "endlinecolor": "#2a3f5f",
                          "gridcolor": "white",
                          "linecolor": "white",
                          "minorgridcolor": "white",
                          "startlinecolor": "#2a3f5f"
                        },
                        "baxis": {
                          "endlinecolor": "#2a3f5f",
                          "gridcolor": "white",
                          "linecolor": "white",
                          "minorgridcolor": "white",
                          "startlinecolor": "#2a3f5f"
                        },
                        "type": "carpet"
                      }
                    ],
                    "choropleth": [
                      {
                        "colorbar": {
                          "outlinewidth": 0,
                          "ticks": ""
                        },
                        "type": "choropleth"
                      }
                    ],
                    "contour": [
                      {
                        "colorbar": {
                          "outlinewidth": 0,
                          "ticks": ""
                        },
                        "colorscale": [
                          [
                            0,
                            "#0d0887"
                          ],
                          [
                            0.1111111111111111,
                            "#46039f"
                          ],
                          [
                            0.2222222222222222,
                            "#7201a8"
                          ],
                          [
                            0.3333333333333333,
                            "#9c179e"
                          ],
                          [
                            0.4444444444444444,
                            "#bd3786"
                          ],
                          [
                            0.5555555555555556,
                            "#d8576b"
                          ],
                          [
                            0.6666666666666666,
                            "#ed7953"
                          ],
                          [
                            0.7777777777777778,
                            "#fb9f3a"
                          ],
                          [
                            0.8888888888888888,
                            "#fdca26"
                          ],
                          [
                            1,
                            "#f0f921"
                          ]
                        ],
                        "type": "contour"
                      }
                    ],
                    "contourcarpet": [
                      {
                        "colorbar": {
                          "outlinewidth": 0,
                          "ticks": ""
                        },
                        "type": "contourcarpet"
                      }
                    ],
                    "heatmap": [
                      {
                        "colorbar": {
                          "outlinewidth": 0,
                          "ticks": ""
                        },
                        "colorscale": [
                          [
                            0,
                            "#0d0887"
                          ],
                          [
                            0.1111111111111111,
                            "#46039f"
                          ],
                          [
                            0.2222222222222222,
                            "#7201a8"
                          ],
                          [
                            0.3333333333333333,
                            "#9c179e"
                          ],
                          [
                            0.4444444444444444,
                            "#bd3786"
                          ],
                          [
                            0.5555555555555556,
                            "#d8576b"
                          ],
                          [
                            0.6666666666666666,
                            "#ed7953"
                          ],
                          [
                            0.7777777777777778,
                            "#fb9f3a"
                          ],
                          [
                            0.8888888888888888,
                            "#fdca26"
                          ],
                          [
                            1,
                            "#f0f921"
                          ]
                        ],
                        "type": "heatmap"
                      }
                    ],
                    "heatmapgl": [
                      {
                        "colorbar": {
                          "outlinewidth": 0,
                          "ticks": ""
                        },
                        "colorscale": [
                          [
                            0,
                            "#0d0887"
                          ],
                          [
                            0.1111111111111111,
                            "#46039f"
                          ],
                          [
                            0.2222222222222222,
                            "#7201a8"
                          ],
                          [
                            0.3333333333333333,
                            "#9c179e"
                          ],
                          [
                            0.4444444444444444,
                            "#bd3786"
                          ],
                          [
                            0.5555555555555556,
                            "#d8576b"
                          ],
                          [
                            0.6666666666666666,
                            "#ed7953"
                          ],
                          [
                            0.7777777777777778,
                            "#fb9f3a"
                          ],
                          [
                            0.8888888888888888,
                            "#fdca26"
                          ],
                          [
                            1,
                            "#f0f921"
                          ]
                        ],
                        "type": "heatmapgl"
                      }
                    ],
                    "histogram": [
                      {
                        "marker": {
                          "pattern": {
                            "fillmode": "overlay",
                            "size": 10,
                            "solidity": 0.2
                          }
                        },
                        "type": "histogram"
                      }
                    ],
                    "histogram2d": [
                      {
                        "colorbar": {
                          "outlinewidth": 0,
                          "ticks": ""
                        },
                        "colorscale": [
                          [
                            0,
                            "#0d0887"
                          ],
                          [
                            0.1111111111111111,
                            "#46039f"
                          ],
                          [
                            0.2222222222222222,
                            "#7201a8"
                          ],
                          [
                            0.3333333333333333,
                            "#9c179e"
                          ],
                          [
                            0.4444444444444444,
                            "#bd3786"
                          ],
                          [
                            0.5555555555555556,
                            "#d8576b"
                          ],
                          [
                            0.6666666666666666,
                            "#ed7953"
                          ],
                          [
                            0.7777777777777778,
                            "#fb9f3a"
                          ],
                          [
                            0.8888888888888888,
                            "#fdca26"
                          ],
                          [
                            1,
                            "#f0f921"
                          ]
                        ],
                        "type": "histogram2d"
                      }
                    ],
                    "histogram2dcontour": [
                      {
                        "colorbar": {
                          "outlinewidth": 0,
                          "ticks": ""
                        },
                        "colorscale": [
                          [
                            0,
                            "#0d0887"
                          ],
                          [
                            0.1111111111111111,
                            "#46039f"
                          ],
                          [
                            0.2222222222222222,
                            "#7201a8"
                          ],
                          [
                            0.3333333333333333,
                            "#9c179e"
                          ],
                          [
                            0.4444444444444444,
                            "#bd3786"
                          ],
                          [
                            0.5555555555555556,
                            "#d8576b"
                          ],
                          [
                            0.6666666666666666,
                            "#ed7953"
                          ],
                          [
                            0.7777777777777778,
                            "#fb9f3a"
                          ],
                          [
                            0.8888888888888888,
                            "#fdca26"
                          ],
                          [
                            1,
                            "#f0f921"
                          ]
                        ],
                        "type": "histogram2dcontour"
                      }
                    ],
                    "mesh3d": [
                      {
                        "colorbar": {
                          "outlinewidth": 0,
                          "ticks": ""
                        },
                        "type": "mesh3d"
                      }
                    ],
                    "parcoords": [
                      {
                        "line": {
                          "colorbar": {
                            "outlinewidth": 0,
                            "ticks": ""
                          }
                        },
                        "type": "parcoords"
                      }
                    ],
                    "pie": [
                      {
                        "automargin": true,
                        "type": "pie"
                      }
                    ],
                    "scatter": [
                      {
                        "fillpattern": {
                          "fillmode": "overlay",
                          "size": 10,
                          "solidity": 0.2
                        },
                        "type": "scatter"
                      }
                    ],
                    "scatter3d": [
                      {
                        "line": {
                          "colorbar": {
                            "outlinewidth": 0,
                            "ticks": ""
                          }
                        },
                        "marker": {
                          "colorbar": {
                            "outlinewidth": 0,
                            "ticks": ""
                          }
                        },
                        "type": "scatter3d"
                      }
                    ],
                    "scattercarpet": [
                      {
                        "marker": {
                          "colorbar": {
                            "outlinewidth": 0,
                            "ticks": ""
                          }
                        },
                        "type": "scattercarpet"
                      }
                    ],
                    "scattergeo": [
                      {
                        "marker": {
                          "colorbar": {
                            "outlinewidth": 0,
                            "ticks": ""
                          }
                        },
                        "type": "scattergeo"
                      }
                    ],
                    "scattergl": [
                      {
                        "marker": {
                          "colorbar": {
                            "outlinewidth": 0,
                            "ticks": ""
                          }
                        },
                        "type": "scattergl"
                      }
                    ],
                    "scattermapbox": [
                      {
                        "marker": {
                          "colorbar": {
                            "outlinewidth": 0,
                            "ticks": ""
                          }
                        },
                        "type": "scattermapbox"
                      }
                    ],
                    "scatterpolar": [
                      {
                        "marker": {
                          "colorbar": {
                            "outlinewidth": 0,
                            "ticks": ""
                          }
                        },
                        "type": "scatterpolar"
                      }
                    ],
                    "scatterpolargl": [
                      {
                        "marker": {
                          "colorbar": {
                            "outlinewidth": 0,
                            "ticks": ""
                          }
                        },
                        "type": "scatterpolargl"
                      }
                    ],
                    "scatterternary": [
                      {
                        "marker": {
                          "colorbar": {
                            "outlinewidth": 0,
                            "ticks": ""
                          }
                        },
                        "type": "scatterternary"
                      }
                    ],
                    "surface": [
                      {
                        "colorbar": {
                          "outlinewidth": 0,
                          "ticks": ""
                        },
                        "colorscale": [
                          [
                            0,
                            "#0d0887"
                          ],
                          [
                            0.1111111111111111,
                            "#46039f"
                          ],
                          [
                            0.2222222222222222,
                            "#7201a8"
                          ],
                          [
                            0.3333333333333333,
                            "#9c179e"
                          ],
                          [
                            0.4444444444444444,
                            "#bd3786"
                          ],
                          [
                            0.5555555555555556,
                            "#d8576b"
                          ],
                          [
                            0.6666666666666666,
                            "#ed7953"
                          ],
                          [
                            0.7777777777777778,
                            "#fb9f3a"
                          ],
                          [
                            0.8888888888888888,
                            "#fdca26"
                          ],
                          [
                            1,
                            "#f0f921"
                          ]
                        ],
                        "type": "surface"
                      }
                    ],
                    "table": [
                      {
                        "cells": {
                          "fill": {
                            "color": "#EBF0F8"
                          },
                          "line": {
                            "color": "white"
                          }
                        },
                        "header": {
                          "fill": {
                            "color": "#C8D4E3"
                          },
                          "line": {
                            "color": "white"
                          }
                        },
                        "type": "table"
                      }
                    ]
                  },
                  "layout": {
                    "annotationdefaults": {
                      "arrowcolor": "#2a3f5f",
                      "arrowhead": 0,
                      "arrowwidth": 1
                    },
                    "autotypenumbers": "strict",
                    "coloraxis": {
                      "colorbar": {
                        "outlinewidth": 0,
                        "ticks": ""
                      }
                    },
                    "colorscale": {
                      "diverging": [
                        [
                          0,
                          "#8e0152"
                        ],
                        [
                          0.1,
                          "#c51b7d"
                        ],
                        [
                          0.2,
                          "#de77ae"
                        ],
                        [
                          0.3,
                          "#f1b6da"
                        ],
                        [
                          0.4,
                          "#fde0ef"
                        ],
                        [
                          0.5,
                          "#f7f7f7"
                        ],
                        [
                          0.6,
                          "#e6f5d0"
                        ],
                        [
                          0.7,
                          "#b8e186"
                        ],
                        [
                          0.8,
                          "#7fbc41"
                        ],
                        [
                          0.9,
                          "#4d9221"
                        ],
                        [
                          1,
                          "#276419"
                        ]
                      ],
                      "sequential": [
                        [
                          0,
                          "#0d0887"
                        ],
                        [
                          0.1111111111111111,
                          "#46039f"
                        ],
                        [
                          0.2222222222222222,
                          "#7201a8"
                        ],
                        [
                          0.3333333333333333,
                          "#9c179e"
                        ],
                        [
                          0.4444444444444444,
                          "#bd3786"
                        ],
                        [
                          0.5555555555555556,
                          "#d8576b"
                        ],
                        [
                          0.6666666666666666,
                          "#ed7953"
                        ],
                        [
                          0.7777777777777778,
                          "#fb9f3a"
                        ],
                        [
                          0.8888888888888888,
                          "#fdca26"
                        ],
                        [
                          1,
                          "#f0f921"
                        ]
                      ],
                      "sequentialminus": [
                        [
                          0,
                          "#0d0887"
                        ],
                        [
                          0.1111111111111111,
                          "#46039f"
                        ],
                        [
                          0.2222222222222222,
                          "#7201a8"
                        ],
                        [
                          0.3333333333333333,
                          "#9c179e"
                        ],
                        [
                          0.4444444444444444,
                          "#bd3786"
                        ],
                        [
                          0.5555555555555556,
                          "#d8576b"
                        ],
                        [
                          0.6666666666666666,
                          "#ed7953"
                        ],
                        [
                          0.7777777777777778,
                          "#fb9f3a"
                        ],
                        [
                          0.8888888888888888,
                          "#fdca26"
                        ],
                        [
                          1,
                          "#f0f921"
                        ]
                      ]
                    },
                    "colorway": [
                      "#636efa",
                      "#EF553B",
                      "#00cc96",
                      "#ab63fa",
                      "#FFA15A",
                      "#19d3f3",
                      "#FF6692",
                      "#B6E880",
                      "#FF97FF",
                      "#FECB52"
                    ],
                    "font": {
                      "color": "#2a3f5f"
                    },
                    "geo": {
                      "bgcolor": "white",
                      "lakecolor": "white",
                      "landcolor": "#E5ECF6",
                      "showlakes": true,
                      "showland": true,
                      "subunitcolor": "white"
                    },
                    "hoverlabel": {
                      "align": "left"
                    },
                    "hovermode": "closest",
                    "mapbox": {
                      "style": "light"
                    },
                    "paper_bgcolor": "white",
                    "plot_bgcolor": "#E5ECF6",
                    "polar": {
                      "angularaxis": {
                        "gridcolor": "white",
                        "linecolor": "white",
                        "ticks": ""
                      },
                      "bgcolor": "#E5ECF6",
                      "radialaxis": {
                        "gridcolor": "white",
                        "linecolor": "white",
                        "ticks": ""
                      }
                    },
                    "scene": {
                      "xaxis": {
                        "backgroundcolor": "#E5ECF6",
                        "gridcolor": "white",
                        "gridwidth": 2,
                        "linecolor": "white",
                        "showbackground": true,
                        "ticks": "",
                        "zerolinecolor": "white"
                      },
                      "yaxis": {
                        "backgroundcolor": "#E5ECF6",
                        "gridcolor": "white",
                        "gridwidth": 2,
                        "linecolor": "white",
                        "showbackground": true,
                        "ticks": "",
                        "zerolinecolor": "white"
                      },
                      "zaxis": {
                        "backgroundcolor": "#E5ECF6",
                        "gridcolor": "white",
                        "gridwidth": 2,
                        "linecolor": "white",
                        "showbackground": true,
                        "ticks": "",
                        "zerolinecolor": "white"
                      }
                    },
                    "shapedefaults": {
                      "line": {
                        "color": "#2a3f5f"
                      }
                    },
                    "ternary": {
                      "aaxis": {
                        "gridcolor": "white",
                        "linecolor": "white",
                        "ticks": ""
                      },
                      "baxis": {
                        "gridcolor": "white",
                        "linecolor": "white",
                        "ticks": ""
                      },
                      "bgcolor": "#E5ECF6",
                      "caxis": {
                        "gridcolor": "white",
                        "linecolor": "white",
                        "ticks": ""
                      }
                    },
                    "title": {
                      "x": 0.05
                    },
                    "xaxis": {
                      "automargin": true,
                      "gridcolor": "white",
                      "linecolor": "white",
                      "ticks": "",
                      "title": {
                        "standoff": 15
                      },
                      "zerolinecolor": "white",
                      "zerolinewidth": 2
                    },
                    "yaxis": {
                      "automargin": true,
                      "gridcolor": "white",
                      "linecolor": "white",
                      "ticks": "",
                      "title": {
                        "standoff": 15
                      },
                      "zerolinecolor": "white",
                      "zerolinewidth": 2
                    }
                  }
                },
                "xaxis": {
                  "anchor": "y",
                  "domain": [
                    0,
                    1
                  ],
                  "title": {
                    "text": "Age"
                  }
                },
                "yaxis": {
                  "anchor": "x",
                  "domain": [
                    0,
                    1
                  ],
                  "title": {
                    "text": "count"
                  }
                }
              }
            }
          },
          "metadata": {},
          "output_type": "display_data"
        }
      ],
      "source": [
        "fig = px.histogram(df, x=\"Age\", color=\"Risk\")\n",
        "fig.show()"
      ]
    },
    {
      "cell_type": "code",
      "execution_count": 5,
      "metadata": {
        "colab": {
          "base_uri": "https://localhost:8080/",
          "height": 542
        },
        "id": "cmRrsTivLuqC",
        "outputId": "ab1665e0-3b7c-4e45-c919-f70ccdd5c200"
      },
      "outputs": [
        {
          "data": {
            "application/vnd.plotly.v1+json": {
              "config": {
                "plotlyServerURL": "https://plot.ly"
              },
              "data": [
                {
                  "alignmentgroup": "True",
                  "bingroup": "x",
                  "hovertemplate": "Risk=good<br>Credit amount=%{x}<br>count=%{y}<extra></extra>",
                  "legendgroup": "good",
                  "marker": {
                    "color": "#636efa",
                    "pattern": {
                      "shape": ""
                    }
                  },
                  "name": "good",
                  "offsetgroup": "good",
                  "orientation": "v",
                  "showlegend": true,
                  "type": "histogram",
                  "x": [
                    1169,
                    2096,
                    7882,
                    9055,
                    2835,
                    6948,
                    3059,
                    1567,
                    1403,
                    2424,
                    8072,
                    3430,
                    2134,
                    2647,
                    2241,
                    1804,
                    2069,
                    1374,
                    426,
                    409,
                    2415,
                    1913,
                    4020,
                    5866,
                    1264,
                    1474,
                    6110,
                    1225,
                    458,
                    2333,
                    1158,
                    6204,
                    6187,
                    1393,
                    2299,
                    1352,
                    7228,
                    2073,
                    2333,
                    5965,
                    1262,
                    3378,
                    783,
                    9566,
                    1961,
                    1391,
                    1537,
                    3181,
                    5190,
                    2171,
                    1007,
                    2394,
                    8133,
                    730,
                    1164,
                    5954,
                    1526,
                    4771,
                    9436,
                    3832,
                    1213,
                    1568,
                    1755,
                    2315,
                    1412,
                    1295,
                    2249,
                    618,
                    1409,
                    3617,
                    1318,
                    2012,
                    2622,
                    2337,
                    7057,
                    1469,
                    2323,
                    932,
                    1919,
                    2445,
                    6078,
                    7721,
                    1410,
                    1449,
                    392,
                    6260,
                    1680,
                    3578,
                    2132,
                    2366,
                    3868,
                    1768,
                    781,
                    2121,
                    701,
                    1860,
                    8487,
                    2708,
                    1984,
                    10144,
                    1240,
                    8613,
                    2728,
                    1881,
                    709,
                    4795,
                    3416,
                    2288,
                    3566,
                    860,
                    682,
                    5371,
                    1582,
                    1346,
                    1924,
                    5848,
                    7758,
                    6967,
                    1288,
                    339,
                    3512,
                    1898,
                    2872,
                    1055,
                    1262,
                    7308,
                    909,
                    2978,
                    1577,
                    3972,
                    763,
                    1414,
                    2577,
                    338,
                    1963,
                    571,
                    3777,
                    1360,
                    1175,
                    3244,
                    2108,
                    1382,
                    2760,
                    936,
                    1168,
                    5117,
                    1495,
                    10623,
                    1935,
                    1424,
                    6568,
                    1413,
                    3074,
                    3835,
                    3342,
                    932,
                    3104,
                    3913,
                    3021,
                    1364,
                    625,
                    1200,
                    707,
                    2978,
                    4657,
                    2613,
                    3149,
                    2507,
                    2141,
                    866,
                    1544,
                    1291,
                    2522,
                    1595,
                    1185,
                    3447,
                    1258,
                    717,
                    1204,
                    1925,
                    666,
                    2251,
                    4151,
                    2030,
                    7418,
                    2684,
                    3812,
                    1154,
                    1657,
                    1603,
                    5302,
                    2748,
                    1231,
                    6304,
                    1533,
                    999,
                    2662,
                    1402,
                    12169,
                    2697,
                    2404,
                    1262,
                    1901,
                    3368,
                    1574,
                    1445,
                    1520,
                    3878,
                    10722,
                    4788,
                    7582,
                    1092,
                    1076,
                    6419,
                    4796,
                    7629,
                    4675,
                    1287,
                    2515,
                    2745,
                    672,
                    1038,
                    1543,
                    4811,
                    276,
                    5381,
                    5511,
                    3749,
                    1494,
                    708,
                    4351,
                    701,
                    3643,
                    2910,
                    2659,
                    1028,
                    3398,
                    5801,
                    1525,
                    4473,
                    1068,
                    6615,
                    2101,
                    4169,
                    1521,
                    5743,
                    3599,
                    3213,
                    4439,
                    3949,
                    1459,
                    882,
                    3758,
                    1743,
                    1236,
                    3229,
                    727,
                    2331,
                    776,
                    1239,
                    3399,
                    2247,
                    1766,
                    1542,
                    3850,
                    3650,
                    3001,
                    3079,
                    6070,
                    2146,
                    13756,
                    2320,
                    846,
                    362,
                    2212,
                    1283,
                    1330,
                    4272,
                    2238,
                    1126,
                    7374,
                    2326,
                    1449,
                    1820,
                    983,
                    3249,
                    1957,
                    2406,
                    11760,
                    2578,
                    2348,
                    1516,
                    1473,
                    1887,
                    802,
                    2899,
                    2197,
                    1053,
                    3235,
                    1967,
                    7253,
                    1597,
                    5842,
                    8471,
                    2782,
                    3186,
                    2028,
                    958,
                    1591,
                    2779,
                    2743,
                    1149,
                    1313,
                    3448,
                    1872,
                    2058,
                    2136,
                    660,
                    1287,
                    3394,
                    1884,
                    1620,
                    2629,
                    1244,
                    2576,
                    1424,
                    11054,
                    518,
                    2759,
                    2670,
                    2679,
                    3905,
                    343,
                    4594,
                    3620,
                    1721,
                    3017,
                    754,
                    1950,
                    2924,
                    7238,
                    2764,
                    4679,
                    1238,
                    2569,
                    5152,
                    1037,
                    1478,
                    3573,
                    1201,
                    3622,
                    960,
                    1163,
                    3077,
                    3757,
                    1418,
                    3518,
                    1934,
                    1237,
                    368,
                    2122,
                    1585,
                    1301,
                    1323,
                    5493,
                    1126,
                    2360,
                    1413,
                    8588,
                    4686,
                    2687,
                    585,
                    2255,
                    609,
                    1361,
                    1203,
                    700,
                    5507,
                    3488,
                    1113,
                    7966,
                    1532,
                    1503,
                    662,
                    2273,
                    1503,
                    1311,
                    3105,
                    1374,
                    3612,
                    3049,
                    2032,
                    1255,
                    2022,
                    1552,
                    8858,
                    996,
                    1750,
                    1995,
                    1199,
                    2964,
                    683,
                    4712,
                    1553,
                    2578,
                    3979,
                    5954,
                    5433,
                    806,
                    1082,
                    2788,
                    2930,
                    1927,
                    937,
                    3124,
                    1388,
                    2133,
                    2799,
                    1289,
                    385,
                    1965,
                    1572,
                    3863,
                    2329,
                    1275,
                    2828,
                    4526,
                    2051,
                    1300,
                    3357,
                    3632,
                    12204,
                    9157,
                    3676,
                    640,
                    3652,
                    1858,
                    1979,
                    2116,
                    4042,
                    3832,
                    3660,
                    1444,
                    1393,
                    1376,
                    15653,
                    1493,
                    1308,
                    1851,
                    1880,
                    4583,
                    7476,
                    2346,
                    3973,
                    10222,
                    4221,
                    6361,
                    1297,
                    2241,
                    1050,
                    1047,
                    6314,
                    3496,
                    3609,
                    3017,
                    4139,
                    5742,
                    10366,
                    2080,
                    4530,
                    5150,
                    2384,
                    1453,
                    1538,
                    2279,
                    1478,
                    5103,
                    9857,
                    6527,
                    1347,
                    2862,
                    2753,
                    3651,
                    975,
                    2631,
                    2896,
                    4716,
                    2284,
                    1236,
                    1103,
                    926,
                    1800,
                    1905,
                    1377,
                    2503,
                    2528,
                    5324,
                    1206,
                    2118,
                    629,
                    2476,
                    1138,
                    7596,
                    3077,
                    1505,
                    3148,
                    6148,
                    790,
                    250,
                    1316,
                    1275,
                    6403,
                    760,
                    2603,
                    3380,
                    3990,
                    4380,
                    6761,
                    2325,
                    1048,
                    3160,
                    2483,
                    14179,
                    1797,
                    2511,
                    5248,
                    3029,
                    428,
                    841,
                    5771,
                    1299,
                    1393,
                    5045,
                    2214,
                    2463,
                    1155,
                    2901,
                    3617,
                    1655,
                    2812,
                    3275,
                    2223,
                    1480,
                    3535,
                    3509,
                    5711,
                    3872,
                    1940,
                    1410,
                    6468,
                    1941,
                    2675,
                    2751,
                    6313,
                    1221,
                    2892,
                    3062,
                    2301,
                    1258,
                    717,
                    1549,
                    1597,
                    1795,
                    4272,
                    976,
                    7472,
                    590,
                    930,
                    9283,
                    907,
                    484,
                    7432,
                    1338,
                    1554,
                    15857,
                    1101,
                    3016,
                    731,
                    3780,
                    1602,
                    6681,
                    2375,
                    5084,
                    886,
                    601,
                    2957,
                    2611,
                    2993,
                    1559,
                    3422,
                    3976,
                    1249,
                    1364,
                    4042,
                    1471,
                    10875,
                    1474,
                    894,
                    3343,
                    3577,
                    5804,
                    4526,
                    2221,
                    2389,
                    3331,
                    7409,
                    652,
                    7678,
                    1343,
                    1382,
                    874,
                    3590,
                    1322,
                    1940,
                    3595,
                    6742,
                    7814,
                    9277,
                    2181,
                    1098,
                    2825,
                    6614,
                    7824,
                    2442,
                    1829,
                    2171,
                    5800,
                    1169,
                    8947,
                    2606,
                    1592,
                    2186,
                    3485,
                    10477,
                    1386,
                    1278,
                    1107,
                    3763,
                    3711,
                    3594,
                    3195,
                    4454,
                    2991,
                    2142,
                    2848,
                    1817,
                    12749,
                    2002,
                    1049,
                    1867,
                    1344,
                    1747,
                    1224,
                    522,
                    1498,
                    2063,
                    6842,
                    3527,
                    1546,
                    929,
                    1455,
                    1845,
                    8358,
                    2859,
                    3590,
                    1893,
                    1231,
                    3656,
                    1154,
                    3069,
                    1740,
                    2353,
                    3556,
                    454,
                    1715,
                    3568,
                    7166,
                    3939,
                    1514,
                    7393,
                    2831,
                    1258,
                    753,
                    2427,
                    2923,
                    2028,
                    1433,
                    6289,
                    1409,
                    6579,
                    1743,
                    3565,
                    1569,
                    1936,
                    3959,
                    2390,
                    1736,
                    3857,
                    804,
                    4576
                  ],
                  "xaxis": "x",
                  "yaxis": "y"
                },
                {
                  "alignmentgroup": "True",
                  "bingroup": "x",
                  "hovertemplate": "Risk=bad<br>Credit amount=%{x}<br>count=%{y}<extra></extra>",
                  "legendgroup": "bad",
                  "marker": {
                    "color": "#EF553B",
                    "pattern": {
                      "shape": ""
                    }
                  },
                  "name": "bad",
                  "offsetgroup": "bad",
                  "orientation": "v",
                  "showlegend": true,
                  "type": "histogram",
                  "x": [
                    5951,
                    4870,
                    5234,
                    1295,
                    4308,
                    1199,
                    1282,
                    12579,
                    6836,
                    4746,
                    2100,
                    6143,
                    2225,
                    6468,
                    6229,
                    1953,
                    14421,
                    1819,
                    1977,
                    3965,
                    5943,
                    12612,
                    1108,
                    797,
                    15945,
                    11938,
                    6458,
                    7855,
                    7174,
                    4281,
                    1835,
                    1924,
                    639,
                    3499,
                    6887,
                    766,
                    2462,
                    1282,
                    1131,
                    1935,
                    950,
                    2064,
                    3414,
                    7485,
                    9572,
                    4455,
                    1647,
                    884,
                    5129,
                    674,
                    4591,
                    3844,
                    3915,
                    3031,
                    1501,
                    951,
                    4297,
                    902,
                    5293,
                    1908,
                    10961,
                    7865,
                    1478,
                    4210,
                    1823,
                    14555,
                    2767,
                    915,
                    4605,
                    433,
                    2150,
                    2149,
                    802,
                    8978,
                    3060,
                    11998,
                    4611,
                    1024,
                    9398,
                    9960,
                    3804,
                    1344,
                    10127,
                    727,
                    1237,
                    685,
                    2746,
                    4249,
                    1938,
                    1864,
                    7408,
                    11590,
                    4110,
                    3384,
                    1275,
                    1136,
                    959,
                    6199,
                    1246,
                    4463,
                    2406,
                    2473,
                    3446,
                    14782,
                    7685,
                    14318,
                    12976,
                    1223,
                    8648,
                    2039,
                    939,
                    2292,
                    1381,
                    2579,
                    1042,
                    2762,
                    1190,
                    11328,
                    1484,
                    609,
                    719,
                    5096,
                    1842,
                    1512,
                    4817,
                    3386,
                    1659,
                    3092,
                    448,
                    654,
                    1245,
                    3114,
                    1209,
                    8318,
                    2996,
                    9034,
                    3123,
                    1216,
                    1207,
                    1309,
                    6850,
                    759,
                    7127,
                    3190,
                    7119,
                    2302,
                    2631,
                    2319,
                    7763,
                    1534,
                    6350,
                    2864,
                    1333,
                    626,
                    6999,
                    1331,
                    2278,
                    5003,
                    3552,
                    1928,
                    1546,
                    12389,
                    1372,
                    6758,
                    3234,
                    2820,
                    1056,
                    2384,
                    2039,
                    1217,
                    2246,
                    2718,
                    1358,
                    931,
                    1442,
                    4241,
                    2775,
                    918,
                    1837,
                    3349,
                    2671,
                    741,
                    1240,
                    1808,
                    3441,
                    1530,
                    3914,
                    2600,
                    1437,
                    1553,
                    1980,
                    1355,
                    4370,
                    750,
                    4623,
                    7980,
                    1386,
                    947,
                    684,
                    1922,
                    2303,
                    8086,
                    888,
                    900,
                    4843,
                    2580,
                    5595,
                    1123,
                    6331,
                    6560,
                    2969,
                    1198,
                    14027,
                    1337,
                    433,
                    1228,
                    2570,
                    1882,
                    6416,
                    1987,
                    11560,
                    4280,
                    1274,
                    976,
                    1555,
                    1285,
                    1271,
                    691,
                    2124,
                    12680,
                    3108,
                    8065,
                    1371,
                    4933,
                    836,
                    6224,
                    5998,
                    1188,
                    7511,
                    9271,
                    1778,
                    9629,
                    3051,
                    3931,
                    1345,
                    2712,
                    3966,
                    4165,
                    8335,
                    1216,
                    11816,
                    2327,
                    1082,
                    5179,
                    1943,
                    6761,
                    709,
                    2235,
                    1442,
                    3959,
                    2169,
                    2439,
                    2210,
                    1422,
                    4057,
                    795,
                    15672,
                    4153,
                    2625,
                    4736,
                    3161,
                    18424,
                    14896,
                    2359,
                    3345,
                    1366,
                    6872,
                    697,
                    10297,
                    1670,
                    1919,
                    745,
                    6288,
                    3349,
                    1533,
                    3621,
                    2145,
                    4113,
                    10974,
                    4006,
                    2397,
                    2520,
                    1193,
                    7297,
                    2538,
                    1264,
                    8386,
                    4844,
                    8229,
                    1845
                  ],
                  "xaxis": "x",
                  "yaxis": "y"
                }
              ],
              "layout": {
                "barmode": "relative",
                "legend": {
                  "title": {
                    "text": "Risk"
                  },
                  "tracegroupgap": 0
                },
                "margin": {
                  "t": 60
                },
                "template": {
                  "data": {
                    "bar": [
                      {
                        "error_x": {
                          "color": "#2a3f5f"
                        },
                        "error_y": {
                          "color": "#2a3f5f"
                        },
                        "marker": {
                          "line": {
                            "color": "#E5ECF6",
                            "width": 0.5
                          },
                          "pattern": {
                            "fillmode": "overlay",
                            "size": 10,
                            "solidity": 0.2
                          }
                        },
                        "type": "bar"
                      }
                    ],
                    "barpolar": [
                      {
                        "marker": {
                          "line": {
                            "color": "#E5ECF6",
                            "width": 0.5
                          },
                          "pattern": {
                            "fillmode": "overlay",
                            "size": 10,
                            "solidity": 0.2
                          }
                        },
                        "type": "barpolar"
                      }
                    ],
                    "carpet": [
                      {
                        "aaxis": {
                          "endlinecolor": "#2a3f5f",
                          "gridcolor": "white",
                          "linecolor": "white",
                          "minorgridcolor": "white",
                          "startlinecolor": "#2a3f5f"
                        },
                        "baxis": {
                          "endlinecolor": "#2a3f5f",
                          "gridcolor": "white",
                          "linecolor": "white",
                          "minorgridcolor": "white",
                          "startlinecolor": "#2a3f5f"
                        },
                        "type": "carpet"
                      }
                    ],
                    "choropleth": [
                      {
                        "colorbar": {
                          "outlinewidth": 0,
                          "ticks": ""
                        },
                        "type": "choropleth"
                      }
                    ],
                    "contour": [
                      {
                        "colorbar": {
                          "outlinewidth": 0,
                          "ticks": ""
                        },
                        "colorscale": [
                          [
                            0,
                            "#0d0887"
                          ],
                          [
                            0.1111111111111111,
                            "#46039f"
                          ],
                          [
                            0.2222222222222222,
                            "#7201a8"
                          ],
                          [
                            0.3333333333333333,
                            "#9c179e"
                          ],
                          [
                            0.4444444444444444,
                            "#bd3786"
                          ],
                          [
                            0.5555555555555556,
                            "#d8576b"
                          ],
                          [
                            0.6666666666666666,
                            "#ed7953"
                          ],
                          [
                            0.7777777777777778,
                            "#fb9f3a"
                          ],
                          [
                            0.8888888888888888,
                            "#fdca26"
                          ],
                          [
                            1,
                            "#f0f921"
                          ]
                        ],
                        "type": "contour"
                      }
                    ],
                    "contourcarpet": [
                      {
                        "colorbar": {
                          "outlinewidth": 0,
                          "ticks": ""
                        },
                        "type": "contourcarpet"
                      }
                    ],
                    "heatmap": [
                      {
                        "colorbar": {
                          "outlinewidth": 0,
                          "ticks": ""
                        },
                        "colorscale": [
                          [
                            0,
                            "#0d0887"
                          ],
                          [
                            0.1111111111111111,
                            "#46039f"
                          ],
                          [
                            0.2222222222222222,
                            "#7201a8"
                          ],
                          [
                            0.3333333333333333,
                            "#9c179e"
                          ],
                          [
                            0.4444444444444444,
                            "#bd3786"
                          ],
                          [
                            0.5555555555555556,
                            "#d8576b"
                          ],
                          [
                            0.6666666666666666,
                            "#ed7953"
                          ],
                          [
                            0.7777777777777778,
                            "#fb9f3a"
                          ],
                          [
                            0.8888888888888888,
                            "#fdca26"
                          ],
                          [
                            1,
                            "#f0f921"
                          ]
                        ],
                        "type": "heatmap"
                      }
                    ],
                    "heatmapgl": [
                      {
                        "colorbar": {
                          "outlinewidth": 0,
                          "ticks": ""
                        },
                        "colorscale": [
                          [
                            0,
                            "#0d0887"
                          ],
                          [
                            0.1111111111111111,
                            "#46039f"
                          ],
                          [
                            0.2222222222222222,
                            "#7201a8"
                          ],
                          [
                            0.3333333333333333,
                            "#9c179e"
                          ],
                          [
                            0.4444444444444444,
                            "#bd3786"
                          ],
                          [
                            0.5555555555555556,
                            "#d8576b"
                          ],
                          [
                            0.6666666666666666,
                            "#ed7953"
                          ],
                          [
                            0.7777777777777778,
                            "#fb9f3a"
                          ],
                          [
                            0.8888888888888888,
                            "#fdca26"
                          ],
                          [
                            1,
                            "#f0f921"
                          ]
                        ],
                        "type": "heatmapgl"
                      }
                    ],
                    "histogram": [
                      {
                        "marker": {
                          "pattern": {
                            "fillmode": "overlay",
                            "size": 10,
                            "solidity": 0.2
                          }
                        },
                        "type": "histogram"
                      }
                    ],
                    "histogram2d": [
                      {
                        "colorbar": {
                          "outlinewidth": 0,
                          "ticks": ""
                        },
                        "colorscale": [
                          [
                            0,
                            "#0d0887"
                          ],
                          [
                            0.1111111111111111,
                            "#46039f"
                          ],
                          [
                            0.2222222222222222,
                            "#7201a8"
                          ],
                          [
                            0.3333333333333333,
                            "#9c179e"
                          ],
                          [
                            0.4444444444444444,
                            "#bd3786"
                          ],
                          [
                            0.5555555555555556,
                            "#d8576b"
                          ],
                          [
                            0.6666666666666666,
                            "#ed7953"
                          ],
                          [
                            0.7777777777777778,
                            "#fb9f3a"
                          ],
                          [
                            0.8888888888888888,
                            "#fdca26"
                          ],
                          [
                            1,
                            "#f0f921"
                          ]
                        ],
                        "type": "histogram2d"
                      }
                    ],
                    "histogram2dcontour": [
                      {
                        "colorbar": {
                          "outlinewidth": 0,
                          "ticks": ""
                        },
                        "colorscale": [
                          [
                            0,
                            "#0d0887"
                          ],
                          [
                            0.1111111111111111,
                            "#46039f"
                          ],
                          [
                            0.2222222222222222,
                            "#7201a8"
                          ],
                          [
                            0.3333333333333333,
                            "#9c179e"
                          ],
                          [
                            0.4444444444444444,
                            "#bd3786"
                          ],
                          [
                            0.5555555555555556,
                            "#d8576b"
                          ],
                          [
                            0.6666666666666666,
                            "#ed7953"
                          ],
                          [
                            0.7777777777777778,
                            "#fb9f3a"
                          ],
                          [
                            0.8888888888888888,
                            "#fdca26"
                          ],
                          [
                            1,
                            "#f0f921"
                          ]
                        ],
                        "type": "histogram2dcontour"
                      }
                    ],
                    "mesh3d": [
                      {
                        "colorbar": {
                          "outlinewidth": 0,
                          "ticks": ""
                        },
                        "type": "mesh3d"
                      }
                    ],
                    "parcoords": [
                      {
                        "line": {
                          "colorbar": {
                            "outlinewidth": 0,
                            "ticks": ""
                          }
                        },
                        "type": "parcoords"
                      }
                    ],
                    "pie": [
                      {
                        "automargin": true,
                        "type": "pie"
                      }
                    ],
                    "scatter": [
                      {
                        "fillpattern": {
                          "fillmode": "overlay",
                          "size": 10,
                          "solidity": 0.2
                        },
                        "type": "scatter"
                      }
                    ],
                    "scatter3d": [
                      {
                        "line": {
                          "colorbar": {
                            "outlinewidth": 0,
                            "ticks": ""
                          }
                        },
                        "marker": {
                          "colorbar": {
                            "outlinewidth": 0,
                            "ticks": ""
                          }
                        },
                        "type": "scatter3d"
                      }
                    ],
                    "scattercarpet": [
                      {
                        "marker": {
                          "colorbar": {
                            "outlinewidth": 0,
                            "ticks": ""
                          }
                        },
                        "type": "scattercarpet"
                      }
                    ],
                    "scattergeo": [
                      {
                        "marker": {
                          "colorbar": {
                            "outlinewidth": 0,
                            "ticks": ""
                          }
                        },
                        "type": "scattergeo"
                      }
                    ],
                    "scattergl": [
                      {
                        "marker": {
                          "colorbar": {
                            "outlinewidth": 0,
                            "ticks": ""
                          }
                        },
                        "type": "scattergl"
                      }
                    ],
                    "scattermapbox": [
                      {
                        "marker": {
                          "colorbar": {
                            "outlinewidth": 0,
                            "ticks": ""
                          }
                        },
                        "type": "scattermapbox"
                      }
                    ],
                    "scatterpolar": [
                      {
                        "marker": {
                          "colorbar": {
                            "outlinewidth": 0,
                            "ticks": ""
                          }
                        },
                        "type": "scatterpolar"
                      }
                    ],
                    "scatterpolargl": [
                      {
                        "marker": {
                          "colorbar": {
                            "outlinewidth": 0,
                            "ticks": ""
                          }
                        },
                        "type": "scatterpolargl"
                      }
                    ],
                    "scatterternary": [
                      {
                        "marker": {
                          "colorbar": {
                            "outlinewidth": 0,
                            "ticks": ""
                          }
                        },
                        "type": "scatterternary"
                      }
                    ],
                    "surface": [
                      {
                        "colorbar": {
                          "outlinewidth": 0,
                          "ticks": ""
                        },
                        "colorscale": [
                          [
                            0,
                            "#0d0887"
                          ],
                          [
                            0.1111111111111111,
                            "#46039f"
                          ],
                          [
                            0.2222222222222222,
                            "#7201a8"
                          ],
                          [
                            0.3333333333333333,
                            "#9c179e"
                          ],
                          [
                            0.4444444444444444,
                            "#bd3786"
                          ],
                          [
                            0.5555555555555556,
                            "#d8576b"
                          ],
                          [
                            0.6666666666666666,
                            "#ed7953"
                          ],
                          [
                            0.7777777777777778,
                            "#fb9f3a"
                          ],
                          [
                            0.8888888888888888,
                            "#fdca26"
                          ],
                          [
                            1,
                            "#f0f921"
                          ]
                        ],
                        "type": "surface"
                      }
                    ],
                    "table": [
                      {
                        "cells": {
                          "fill": {
                            "color": "#EBF0F8"
                          },
                          "line": {
                            "color": "white"
                          }
                        },
                        "header": {
                          "fill": {
                            "color": "#C8D4E3"
                          },
                          "line": {
                            "color": "white"
                          }
                        },
                        "type": "table"
                      }
                    ]
                  },
                  "layout": {
                    "annotationdefaults": {
                      "arrowcolor": "#2a3f5f",
                      "arrowhead": 0,
                      "arrowwidth": 1
                    },
                    "autotypenumbers": "strict",
                    "coloraxis": {
                      "colorbar": {
                        "outlinewidth": 0,
                        "ticks": ""
                      }
                    },
                    "colorscale": {
                      "diverging": [
                        [
                          0,
                          "#8e0152"
                        ],
                        [
                          0.1,
                          "#c51b7d"
                        ],
                        [
                          0.2,
                          "#de77ae"
                        ],
                        [
                          0.3,
                          "#f1b6da"
                        ],
                        [
                          0.4,
                          "#fde0ef"
                        ],
                        [
                          0.5,
                          "#f7f7f7"
                        ],
                        [
                          0.6,
                          "#e6f5d0"
                        ],
                        [
                          0.7,
                          "#b8e186"
                        ],
                        [
                          0.8,
                          "#7fbc41"
                        ],
                        [
                          0.9,
                          "#4d9221"
                        ],
                        [
                          1,
                          "#276419"
                        ]
                      ],
                      "sequential": [
                        [
                          0,
                          "#0d0887"
                        ],
                        [
                          0.1111111111111111,
                          "#46039f"
                        ],
                        [
                          0.2222222222222222,
                          "#7201a8"
                        ],
                        [
                          0.3333333333333333,
                          "#9c179e"
                        ],
                        [
                          0.4444444444444444,
                          "#bd3786"
                        ],
                        [
                          0.5555555555555556,
                          "#d8576b"
                        ],
                        [
                          0.6666666666666666,
                          "#ed7953"
                        ],
                        [
                          0.7777777777777778,
                          "#fb9f3a"
                        ],
                        [
                          0.8888888888888888,
                          "#fdca26"
                        ],
                        [
                          1,
                          "#f0f921"
                        ]
                      ],
                      "sequentialminus": [
                        [
                          0,
                          "#0d0887"
                        ],
                        [
                          0.1111111111111111,
                          "#46039f"
                        ],
                        [
                          0.2222222222222222,
                          "#7201a8"
                        ],
                        [
                          0.3333333333333333,
                          "#9c179e"
                        ],
                        [
                          0.4444444444444444,
                          "#bd3786"
                        ],
                        [
                          0.5555555555555556,
                          "#d8576b"
                        ],
                        [
                          0.6666666666666666,
                          "#ed7953"
                        ],
                        [
                          0.7777777777777778,
                          "#fb9f3a"
                        ],
                        [
                          0.8888888888888888,
                          "#fdca26"
                        ],
                        [
                          1,
                          "#f0f921"
                        ]
                      ]
                    },
                    "colorway": [
                      "#636efa",
                      "#EF553B",
                      "#00cc96",
                      "#ab63fa",
                      "#FFA15A",
                      "#19d3f3",
                      "#FF6692",
                      "#B6E880",
                      "#FF97FF",
                      "#FECB52"
                    ],
                    "font": {
                      "color": "#2a3f5f"
                    },
                    "geo": {
                      "bgcolor": "white",
                      "lakecolor": "white",
                      "landcolor": "#E5ECF6",
                      "showlakes": true,
                      "showland": true,
                      "subunitcolor": "white"
                    },
                    "hoverlabel": {
                      "align": "left"
                    },
                    "hovermode": "closest",
                    "mapbox": {
                      "style": "light"
                    },
                    "paper_bgcolor": "white",
                    "plot_bgcolor": "#E5ECF6",
                    "polar": {
                      "angularaxis": {
                        "gridcolor": "white",
                        "linecolor": "white",
                        "ticks": ""
                      },
                      "bgcolor": "#E5ECF6",
                      "radialaxis": {
                        "gridcolor": "white",
                        "linecolor": "white",
                        "ticks": ""
                      }
                    },
                    "scene": {
                      "xaxis": {
                        "backgroundcolor": "#E5ECF6",
                        "gridcolor": "white",
                        "gridwidth": 2,
                        "linecolor": "white",
                        "showbackground": true,
                        "ticks": "",
                        "zerolinecolor": "white"
                      },
                      "yaxis": {
                        "backgroundcolor": "#E5ECF6",
                        "gridcolor": "white",
                        "gridwidth": 2,
                        "linecolor": "white",
                        "showbackground": true,
                        "ticks": "",
                        "zerolinecolor": "white"
                      },
                      "zaxis": {
                        "backgroundcolor": "#E5ECF6",
                        "gridcolor": "white",
                        "gridwidth": 2,
                        "linecolor": "white",
                        "showbackground": true,
                        "ticks": "",
                        "zerolinecolor": "white"
                      }
                    },
                    "shapedefaults": {
                      "line": {
                        "color": "#2a3f5f"
                      }
                    },
                    "ternary": {
                      "aaxis": {
                        "gridcolor": "white",
                        "linecolor": "white",
                        "ticks": ""
                      },
                      "baxis": {
                        "gridcolor": "white",
                        "linecolor": "white",
                        "ticks": ""
                      },
                      "bgcolor": "#E5ECF6",
                      "caxis": {
                        "gridcolor": "white",
                        "linecolor": "white",
                        "ticks": ""
                      }
                    },
                    "title": {
                      "x": 0.05
                    },
                    "xaxis": {
                      "automargin": true,
                      "gridcolor": "white",
                      "linecolor": "white",
                      "ticks": "",
                      "title": {
                        "standoff": 15
                      },
                      "zerolinecolor": "white",
                      "zerolinewidth": 2
                    },
                    "yaxis": {
                      "automargin": true,
                      "gridcolor": "white",
                      "linecolor": "white",
                      "ticks": "",
                      "title": {
                        "standoff": 15
                      },
                      "zerolinecolor": "white",
                      "zerolinewidth": 2
                    }
                  }
                },
                "xaxis": {
                  "anchor": "y",
                  "domain": [
                    0,
                    1
                  ],
                  "title": {
                    "text": "Credit amount"
                  }
                },
                "yaxis": {
                  "anchor": "x",
                  "domain": [
                    0,
                    1
                  ],
                  "title": {
                    "text": "count"
                  }
                }
              }
            }
          },
          "metadata": {},
          "output_type": "display_data"
        }
      ],
      "source": [
        "fig = px.histogram(df, x=\"Credit amount\", color=\"Risk\")\n",
        "fig.show()"
      ]
    },
    {
      "cell_type": "code",
      "execution_count": 6,
      "metadata": {
        "colab": {
          "base_uri": "https://localhost:8080/"
        },
        "id": "1TISz7_5LwiI",
        "outputId": "7beb20e8-d2dc-43aa-9393-afcb8be604ac"
      },
      "outputs": [
        {
          "name": "stdout",
          "output_type": "stream",
          "text": [
            "Sex   female  male\n",
            "Risk              \n",
            "bad      109   191\n",
            "good     201   499\n",
            "resultados\n",
            "Sex\n",
            "female    64.838710\n",
            "male      72.318841\n",
            "dtype: float64\n"
          ]
        }
      ],
      "source": [
        "# prompt: hacer tabla de contingencia entre risk ysex y calcular que porsentaje de cada sexo está en good\n",
        "\n",
        "# Tabla de contingencia entre Risk y Sex\n",
        "contingency_table = pd.crosstab(df['Risk'], df['Sex'])\n",
        "print(contingency_table)\n",
        "\n",
        "# Porcentaje de cada sexo en good\n",
        "print(\"resultados\")\n",
        "good_risk_by_sex = contingency_table.loc['good'] / contingency_table.sum(axis=0) * 100\n",
        "print(good_risk_by_sex)\n"
      ]
    },
    {
      "cell_type": "code",
      "execution_count": 7,
      "metadata": {
        "colab": {
          "base_uri": "https://localhost:8080/"
        },
        "id": "gZ3sNgjgL4Oq",
        "outputId": "6c49b76c-ea6e-456e-de4c-2437b5b0af5d"
      },
      "outputs": [
        {
          "name": "stdout",
          "output_type": "stream",
          "text": [
            "Job    0    1    2   3\n",
            "Risk                  \n",
            "bad    7   56  186  51\n",
            "good  15  144  444  97\n",
            "resultados\n",
            "Job\n",
            "0    68.181818\n",
            "1    72.000000\n",
            "2    70.476190\n",
            "3    65.540541\n",
            "dtype: float64\n"
          ]
        }
      ],
      "source": [
        "# Tabla de contingencia entre Risk y Job\n",
        "contingency_table = pd.crosstab(df['Risk'], df['Job'])\n",
        "print(contingency_table)\n",
        "\n",
        "# Porcentaje de cada sexo en good\n",
        "print(\"resultados\")\n",
        "good_risk_by_sex = contingency_table.loc['good'] / contingency_table.sum(axis=0) * 100\n",
        "print(good_risk_by_sex)\n"
      ]
    },
    {
      "cell_type": "code",
      "execution_count": 8,
      "metadata": {
        "colab": {
          "base_uri": "https://localhost:8080/"
        },
        "id": "WuJ-V2wFL6Ag",
        "outputId": "55817ad4-b396-46bb-d49f-b54d499bd836"
      },
      "outputs": [
        {
          "name": "stdout",
          "output_type": "stream",
          "text": [
            "Housing  free  own  rent\n",
            "Risk                    \n",
            "bad        44  186    70\n",
            "good       64  527   109\n",
            "resultados\n",
            "Housing\n",
            "free    59.259259\n",
            "own     73.913043\n",
            "rent    60.893855\n",
            "dtype: float64\n"
          ]
        }
      ],
      "source": [
        "# Tabla de contingencia entre Risk y Housing\n",
        "contingency_table = pd.crosstab(df['Risk'], df['Housing'])\n",
        "print(contingency_table)\n",
        "\n",
        "# Porcentaje de cada sexo en good\n",
        "print(\"resultados\")\n",
        "good_risk_by_sex = contingency_table.loc['good'] / contingency_table.sum(axis=0) * 100\n",
        "print(good_risk_by_sex)\n"
      ]
    },
    {
      "cell_type": "code",
      "execution_count": 9,
      "metadata": {
        "colab": {
          "base_uri": "https://localhost:8080/"
        },
        "id": "6IDd9K5QL9Am",
        "outputId": "4b0c50c9-d216-4630-81ff-6f5d8de3f931"
      },
      "outputs": [
        {
          "name": "stdout",
          "output_type": "stream",
          "text": [
            "Saving accounts  little  moderate  quite rich  rich\n",
            "Risk                                               \n",
            "bad                 217        34          11     6\n",
            "good                386        69          52    42\n",
            "resultados\n",
            "Saving accounts\n",
            "little        64.013267\n",
            "moderate      66.990291\n",
            "quite rich    82.539683\n",
            "rich          87.500000\n",
            "dtype: float64\n"
          ]
        }
      ],
      "source": [
        "\n",
        "# Tabla de contingencia entre Risk y Saving accounts\n",
        "contingency_table = pd.crosstab(df['Risk'], df['Saving accounts'])\n",
        "print(contingency_table)\n",
        "\n",
        "# Porcentaje de cada sexo en good\n",
        "print(\"resultados\")\n",
        "good_risk_by_sex = contingency_table.loc['good'] / contingency_table.sum(axis=0) * 100\n",
        "print(good_risk_by_sex)"
      ]
    },
    {
      "cell_type": "code",
      "execution_count": 10,
      "metadata": {
        "colab": {
          "base_uri": "https://localhost:8080/"
        },
        "id": "uaCcWZbmMBX3",
        "outputId": "8960fe87-b1bf-4fd8-e003-45fefc94b942"
      },
      "outputs": [
        {
          "name": "stdout",
          "output_type": "stream",
          "text": [
            "Checking account  little  moderate  rich\n",
            "Risk                                    \n",
            "bad                  135       105    14\n",
            "good                 139       164    49\n",
            "resultados\n",
            "Checking account\n",
            "little      50.729927\n",
            "moderate    60.966543\n",
            "rich        77.777778\n",
            "dtype: float64\n"
          ]
        }
      ],
      "source": [
        "\n",
        "# Tabla de contingencia entre Risk y Checking account\n",
        "contingency_table = pd.crosstab(df['Risk'], df['Checking account'])\n",
        "print(contingency_table)\n",
        "\n",
        "# Porcentaje de cada sexo en good\n",
        "print(\"resultados\")\n",
        "good_risk_by_sex = contingency_table.loc['good'] / contingency_table.sum(axis=0) * 100\n",
        "print(good_risk_by_sex)"
      ]
    },
    {
      "cell_type": "code",
      "execution_count": 11,
      "metadata": {
        "colab": {
          "base_uri": "https://localhost:8080/"
        },
        "id": "IY6VlQ9uMDEW",
        "outputId": "5391a4b6-8885-4862-da71-2eaac23b4070"
      },
      "outputs": [
        {
          "name": "stdout",
          "output_type": "stream",
          "text": [
            "Purpose  business  car  domestic appliances  education  furniture/equipment  \\\n",
            "Risk                                                                          \n",
            "bad            34  106                    4         23                   58   \n",
            "good           63  231                    8         36                  123   \n",
            "\n",
            "Purpose  radio/TV  repairs  vacation/others  \n",
            "Risk                                         \n",
            "bad            62        8                5  \n",
            "good          218       14                7  \n",
            "resultados\n",
            "Purpose\n",
            "business               64.948454\n",
            "car                    68.545994\n",
            "domestic appliances    66.666667\n",
            "education              61.016949\n",
            "furniture/equipment    67.955801\n",
            "radio/TV               77.857143\n",
            "repairs                63.636364\n",
            "vacation/others        58.333333\n",
            "dtype: float64\n"
          ]
        }
      ],
      "source": [
        "\n",
        "# Tabla de contingencia entre Risk y Purpose\n",
        "contingency_table = pd.crosstab(df['Risk'], df['Purpose'])\n",
        "print(contingency_table)\n",
        "\n",
        "# Porcentaje de cada sexo en good\n",
        "print(\"resultados\")\n",
        "good_risk_by_sex = contingency_table.loc['good'] / contingency_table.sum(axis=0) * 100\n",
        "print(good_risk_by_sex)"
      ]
    },
    {
      "cell_type": "markdown",
      "metadata": {
        "id": "M0t1MYUrSGCJ"
      },
      "source": [
        "# Las variables elegidas con más correlación fueron: Housing-Checking_account-Saving_accounts"
      ]
    },
    {
      "cell_type": "code",
      "execution_count": 12,
      "metadata": {
        "id": "w-MBp54Ayl24"
      },
      "outputs": [],
      "source": [
        "train,test=train_test_split(df,test_size=0.2,random_state=42)"
      ]
    },
    {
      "cell_type": "code",
      "execution_count": 13,
      "metadata": {
        "colab": {
          "base_uri": "https://localhost:8080/"
        },
        "id": "6wGNKi5xyqQu",
        "outputId": "38a777e2-c3d8-46fb-cf00-ce2b12793c24"
      },
      "outputs": [
        {
          "name": "stdout",
          "output_type": "stream",
          "text": [
            "Precisión del modelo: 0.715\n"
          ]
        }
      ],
      "source": [
        "categorical_features_onehot = ['Housing'] # Removed 'Risk' as it is the target variable\n",
        "categorical_features_ordinal=['Checking account','Saving accounts']\n",
        "numeric_transformer = SimpleImputer(strategy='mean')\n",
        "onehot_transformer = OneHotEncoder()\n",
        "ordinal_transformer = OrdinalEncoder()\n",
        "x_train=train[['Saving accounts','Checking account','Housing']]\n",
        "y_train=train['Risk']\n",
        "x_test=test[['Saving accounts','Checking account','Housing']]\n",
        "y_test=test['Risk']\n",
        "# Dropear las columnas no seleccionadas\n",
        "train_dropped = train.drop(columns=[col for col in train.columns if col not in x_train.columns and col != 'Risk'])\n",
        "test_dropped = test.drop(columns=[col for col in test.columns if col not in x_test.columns and col != 'Risk'])\n",
        "\n",
        "# Crear el ColumnTransformer\n",
        "preprocessor = ColumnTransformer(\n",
        "    transformers=[\n",
        "        ('onehot', onehot_transformer, categorical_features_onehot),\n",
        "        ('ordinal', ordinal_transformer, categorical_features_ordinal)\n",
        "    ])\n",
        "\n",
        "pipeline = Pipeline(steps=[('preprocessor', preprocessor), ('scaler',MinMaxScaler()), ('imputer',SimpleImputer(strategy='mean')),('tree', DecisionTreeClassifier(max_depth=7))]) # Added a name 'imputer' for the SimpleImputer step\n",
        "\n",
        "# Entrenar el modelo\n",
        "pipeline.fit(x_train, y_train)\n",
        "# Realizar predicciones en el conjunto de prueba\n",
        "y_pred = pipeline.predict(x_test)\n",
        "\n",
        "# Calcular la precisión del modelo\n",
        "accuracy = accuracy_score(y_test, y_pred)\n",
        "print(f'Precisión del modelo: {accuracy}')\n"
      ]
    },
    {
      "cell_type": "code",
      "execution_count": 14,
      "metadata": {
        "id": "2_M20fkiOMqy"
      },
      "outputs": [],
      "source": [
        "result = cross_validate(pipeline,\n",
        "                        train[['Saving accounts','Checking account','Housing']], train['Risk'], cv=5,\n",
        "                        return_train_score=True)"
      ]
    },
    {
      "cell_type": "code",
      "execution_count": 15,
      "metadata": {
        "colab": {
          "base_uri": "https://localhost:8080/"
        },
        "id": "tuZNb6mEOvXt",
        "outputId": "5a56b379-9946-4b1d-84f6-4c4cf3bd5359"
      },
      "outputs": [
        {
          "name": "stdout",
          "output_type": "stream",
          "text": [
            "0.7368750000000001 0.0032173844190584314\n",
            "0.7 0.020539595906443737\n"
          ]
        }
      ],
      "source": [
        "print(result['train_score'].mean(), result['train_score'].std())\n",
        "print(result['test_score'].mean(), result['test_score'].std())"
      ]
    },
    {
      "cell_type": "code",
      "execution_count": 16,
      "metadata": {
        "colab": {
          "base_uri": "https://localhost:8080/",
          "height": 567
        },
        "id": "q4eW0Kpc0NM3",
        "outputId": "150b571e-86c7-4802-fe96-f9f6c5558a98"
      },
      "outputs": [
        {
          "data": {
            "image/png": "[encoded data removed]",
            "text/plain": [
              "<Figure size 1000x600 with 1 Axes>"
            ]
          },
          "metadata": {},
          "output_type": "display_data"
        }
      ],
      "source": [
        "max_depths = np.arange(1, 9)\n",
        "cv_scores = []\n",
        "\n",
        "for depth in max_depths:\n",
        "    model = Pipeline(steps=[\n",
        "        ('preprocessor', preprocessor),\n",
        "        ('scaler', MinMaxScaler()),\n",
        "        ('imputer', SimpleImputer(strategy='mean')),\n",
        "        ('tree', DecisionTreeClassifier(max_depth=depth, random_state=42))\n",
        "    ])\n",
        "    scores = cross_val_score(model, x_train, y_train, cv=5, scoring='accuracy')\n",
        "    cv_scores.append(scores.mean())\n",
        "\n",
        "# Graficar los resultados\n",
        "plt.figure(figsize=(10, 6))\n",
        "plt.plot(max_depths, cv_scores, marker='o')\n",
        "plt.xlabel('Profundidad del Árbol')\n",
        "plt.ylabel('Precisión de Validación Cruzada')\n",
        "plt.title('Determinación de la Profundidad Óptima del Árbol de Decisión')\n",
        "plt.grid(True)\n",
        "plt.show()"
      ]
    },
    {
      "cell_type": "markdown",
      "metadata": {
        "id": "xyLSHZpqU-hF"
      },
      "source": [
        "# Modelo Prueba con nuevos datos"
      ]
    },
    {
      "cell_type": "code",
      "execution_count": 17,
      "metadata": {
        "colab": {
          "base_uri": "https://localhost:8080/"
        },
        "id": "yk4Mondv9C40",
        "outputId": "c5812f0b-610e-432e-9198-9b85e2407cbc"
      },
      "outputs": [
        {
          "name": "stdout",
          "output_type": "stream",
          "text": [
            "El modelo predice que el cliente tiene un buen riesgo crediticio.\n"
          ]
        }
      ],
      "source": [
        "# Ejemplo de entrada de datos para un nuevo cliente\n",
        "new_client_data = {\n",
        "    'Nombre': 'Juan',\n",
        "    'Edad': 30,\n",
        "    'Salario': 50000,\n",
        "    'Saving accounts': 'little',\n",
        "    'Checking account': 'little',\n",
        "    'Housing': 'own'\n",
        "}\n",
        "\n",
        "# Convertir el diccionario a un DataFrame de Pandas\n",
        "new_client_df = pd.DataFrame([new_client_data])\n",
        "\n",
        "# Realizar la predicción\n",
        "prediction = pipeline.predict(new_client_df)\n",
        "\n",
        "# Imprimir el resultado\n",
        "if prediction[0] == 'good':\n",
        "    print(\"El modelo predice que el cliente tiene un buen riesgo crediticio.\")\n",
        "else:\n",
        "    print(\"El modelo predice que el cliente tiene un mal riesgo crediticio.\")\n"
      ]
    },
    {
      "cell_type": "code",
      "execution_count": 18,
      "metadata": {
        "colab": {
          "base_uri": "https://localhost:8080/",
          "height": 89
        },
        "id": "Xn2fzqTPVNGS",
        "outputId": "540777ec-da17-4cdd-d077-9748bc03e5cf"
      },
      "outputs": [
        {
          "data": {
            "text/html": [
              "<div>\n",
              "<style scoped>\n",
              "    .dataframe tbody tr th:only-of-type {\n",
              "        vertical-align: middle;\n",
              "    }\n",
              "\n",
              "    .dataframe tbody tr th {\n",
              "        vertical-align: top;\n",
              "    }\n",
              "\n",
              "    .dataframe thead th {\n",
              "        text-align: right;\n",
              "    }\n",
              "</style>\n",
              "<table border=\"1\" class=\"dataframe\">\n",
              "  <thead>\n",
              "    <tr style=\"text-align: right;\">\n",
              "      <th></th>\n",
              "      <th>Nombre</th>\n",
              "      <th>Edad</th>\n",
              "      <th>Salario</th>\n",
              "      <th>Saving accounts</th>\n",
              "      <th>Checking account</th>\n",
              "      <th>Housing</th>\n",
              "    </tr>\n",
              "  </thead>\n",
              "  <tbody>\n",
              "    <tr>\n",
              "      <th>0</th>\n",
              "      <td>Juan</td>\n",
              "      <td>30</td>\n",
              "      <td>50000</td>\n",
              "      <td>little</td>\n",
              "      <td>little</td>\n",
              "      <td>own</td>\n",
              "    </tr>\n",
              "  </tbody>\n",
              "</table>\n",
              "</div>"
            ],
            "text/plain": [
              "  Nombre  Edad  Salario Saving accounts Checking account Housing\n",
              "0   Juan    30    50000          little           little     own"
            ]
          },
          "execution_count": 18,
          "metadata": {},
          "output_type": "execute_result"
        }
      ],
      "source": [
        "new_client_df"
      ]
    }
  ],
  "metadata": {
    "colab": {
      "collapsed_sections": [
        "cCDeCjRLQD6f",
        "bx9v_63NQPZj",
        "M0t1MYUrSGCJ",
        "xyLSHZpqU-hF"
      ],
      "provenance": []
    },
    "kernelspec": {
      "display_name": "Python 3",
      "name": "python3"
    },
    "language_info": {
      "codemirror_mode": {
        "name": "ipython",
        "version": 3
      },
      "file_extension": ".py",
      "mimetype": "text/x-python",
      "name": "python",
      "nbconvert_exporter": "python",
      "pygments_lexer": "ipython3",
      "version": "3.10.12"
    }
  },
  "nbformat": 4,
  "nbformat_minor": 0
}
